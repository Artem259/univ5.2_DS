{
 "cells": [
  {
   "cell_type": "code",
   "execution_count": 1,
   "id": "fe59049ae2ecd397",
   "metadata": {
    "ExecuteTime": {
     "end_time": "2025-03-20T21:14:08.041009Z",
     "start_time": "2025-03-20T21:14:08.023923Z"
    }
   },
   "outputs": [],
   "source": [
    "import bitarray\n",
    "import mmh3"
   ]
  },
  {
   "cell_type": "markdown",
   "id": "7394388177f4b89c",
   "metadata": {},
   "source": [
    "#### Declare the BloomFilter class"
   ]
  },
  {
   "cell_type": "markdown",
   "id": "4092ba9a969f6af1",
   "metadata": {},
   "source": [
    "- `size`: The number of bits in the filter.\n",
    "- `hash_count`: The number of hash functions to apply.\n",
    "- `hash_f`: A hash function that generates multiple hash values.\n",
    "\n",
    "##### Methods:\n",
    "- `add(item)`: Inserts an item into the filter.\n",
    "- `[item]`: Checks if an item is possibly in the filter."
   ]
  },
  {
   "cell_type": "code",
   "execution_count": 2,
   "id": "be3d27744869d19d",
   "metadata": {
    "ExecuteTime": {
     "end_time": "2025-03-20T21:14:08.056490Z",
     "start_time": "2025-03-20T21:14:08.044409Z"
    }
   },
   "outputs": [],
   "source": [
    "class BloomFilter:\n",
    "    def __init__(self, size, hash_count, hash_f):\n",
    "        \"\"\"\n",
    "        :param size: The number of bits in the filter.\n",
    "        :param hash_count: The number of hash functions to apply.\n",
    "        :param hash_f: A hash function that generates multiple hash values.\n",
    "        \"\"\"\n",
    "        self.size = size\n",
    "        self.hash_count = hash_count\n",
    "        self.bit_array = bitarray.bitarray(size)\n",
    "        self.bit_array.setall(0)\n",
    "        self.hash_f = hash_f\n",
    "\n",
    "    def add(self, item: str):\n",
    "        \"\"\"\n",
    "        Insert an item into the filter.\n",
    "\n",
    "        :param item: The item to be added, represented as a string.\n",
    "        \"\"\"\n",
    "        hashes = self._hashes(item)\n",
    "        for hash_value in hashes:\n",
    "            self.bit_array[hash_value] = 1\n",
    "\n",
    "    def _hashes(self, item: str) -> list[int]:\n",
    "        \"\"\"\n",
    "        Generate hash values for the given item.\n",
    "\n",
    "        :param item: The input item to hash.\n",
    "        :return: A list of hash values corresponding to bit positions in the Bloom filter.\n",
    "        \"\"\"\n",
    "        return self.hash_f(item, self.size, self.hash_count)\n",
    "\n",
    "    def __contains__(self, item: str) -> bool:\n",
    "        \"\"\"\n",
    "        Check whether an item is possibly in the Bloom filter.\n",
    "\n",
    "        :param item: The item to check, represented as a string.\n",
    "        :return: True if the item might be in the filter, False if it is definitely not.\n",
    "        \"\"\"\n",
    "        return all(self.bit_array[hash_value] for hash_value in self._hashes(item))"
   ]
  },
  {
   "cell_type": "markdown",
   "id": "519b410dcfdc9789",
   "metadata": {},
   "source": [
    "#### Declare the hash function"
   ]
  },
  {
   "cell_type": "markdown",
   "id": "4e720d652b372837",
   "metadata": {},
   "source": [
    "To generate multiple hash values for our Bloom filter, we use **MurmurHash3**, a non-cryptographic hash function known for its speed and good dispersion.\n",
    "\n",
    "The function `mmh3_hashes` takes:\n",
    "- `data`: The input string.\n",
    "- `m`: The Bloom filter size.\n",
    "- `k`: The number of hash functions.\n",
    "\n",
    "It returns a list of `k` different hash values, each mapped to a position in the bit array."
   ]
  },
  {
   "cell_type": "code",
   "execution_count": 3,
   "id": "106239da4bbf3001",
   "metadata": {
    "ExecuteTime": {
     "end_time": "2025-03-20T21:14:08.087698Z",
     "start_time": "2025-03-20T21:14:08.074160Z"
    }
   },
   "outputs": [],
   "source": [
    "def mmh3_hashes(data: str, m: int, k: int) -> list[int]:\n",
    "    return [mmh3.hash(data, i) % m for i in range(k)]"
   ]
  },
  {
   "cell_type": "markdown",
   "id": "61f4c0271305f1a4",
   "metadata": {},
   "source": [
    "#### Usage example"
   ]
  },
  {
   "cell_type": "markdown",
   "id": "db6f4881da1565c3",
   "metadata": {},
   "source": [
    "Initialize a Bloom filter with 1000 bits and 3 hash functions"
   ]
  },
  {
   "cell_type": "code",
   "execution_count": 4,
   "id": "32e0c4109c1dcafa",
   "metadata": {
    "ExecuteTime": {
     "end_time": "2025-03-20T21:14:08.119713Z",
     "start_time": "2025-03-20T21:14:08.105188Z"
    }
   },
   "outputs": [],
   "source": [
    "bloom = BloomFilter(size=1000, hash_count=3, hash_f=mmh3_hashes)"
   ]
  },
  {
   "cell_type": "markdown",
   "id": "1581c4b947ab5764",
   "metadata": {},
   "source": [
    "Add some elements"
   ]
  },
  {
   "cell_type": "code",
   "execution_count": 5,
   "id": "d44cea53bf99e33a",
   "metadata": {
    "ExecuteTime": {
     "end_time": "2025-03-20T21:14:08.149931Z",
     "start_time": "2025-03-20T21:14:08.135959Z"
    }
   },
   "outputs": [],
   "source": [
    "bloom.add('item_1')\n",
    "bloom.add('item_2')\n",
    "bloom.add('item_3')"
   ]
  },
  {
   "cell_type": "markdown",
   "id": "9b4e813078518c11",
   "metadata": {},
   "source": [
    "Check for presence"
   ]
  },
  {
   "cell_type": "code",
   "execution_count": 6,
   "id": "a58f9f2a6a794a9f",
   "metadata": {
    "ExecuteTime": {
     "end_time": "2025-03-20T21:14:08.181317Z",
     "start_time": "2025-03-20T21:14:08.166385Z"
    }
   },
   "outputs": [
    {
     "name": "stdout",
     "output_type": "stream",
     "text": [
      "True\n",
      "True\n",
      "True\n"
     ]
    }
   ],
   "source": [
    "print('item_1' in bloom)  # Expected output: True\n",
    "print('item_2' in bloom)  # Expected output: True\n",
    "print('item_3' in bloom)  # Expected output: True"
   ]
  },
  {
   "cell_type": "markdown",
   "id": "9ef2aaa49d7c96cb",
   "metadata": {},
   "source": [
    "Check for an element not in the filter"
   ]
  },
  {
   "cell_type": "code",
   "execution_count": 7,
   "id": "50ee2aa792b9e70a",
   "metadata": {
    "ExecuteTime": {
     "end_time": "2025-03-20T21:14:08.212980Z",
     "start_time": "2025-03-20T21:14:08.198526Z"
    }
   },
   "outputs": [
    {
     "name": "stdout",
     "output_type": "stream",
     "text": [
      "False\n"
     ]
    }
   ],
   "source": [
    "print('item_4' in bloom)  # Expected output: False (but could be True due to false positives)"
   ]
  }
 ],
 "metadata": {
  "kernelspec": {
   "display_name": "Python 3 (ipykernel)",
   "language": "python",
   "name": "python3"
  },
  "language_info": {
   "codemirror_mode": {
    "name": "ipython",
    "version": 3
   },
   "file_extension": ".py",
   "mimetype": "text/x-python",
   "name": "python",
   "nbconvert_exporter": "python",
   "pygments_lexer": "ipython3",
   "version": "3.9.13"
  }
 },
 "nbformat": 4,
 "nbformat_minor": 5
}
