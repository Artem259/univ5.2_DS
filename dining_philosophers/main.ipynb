{
 "cells": [
  {
   "cell_type": "code",
   "id": "48d3dec972956fe",
   "metadata": {
    "ExecuteTime": {
     "end_time": "2025-03-22T04:10:58.977161Z",
     "start_time": "2025-03-22T04:10:58.963843Z"
    }
   },
   "source": [
    "import threading\n",
    "import queue\n",
    "import time\n",
    "import random\n",
    "from IPython.display import display"
   ],
   "outputs": [],
   "execution_count": 1
  },
  {
   "cell_type": "code",
   "id": "9cd55e9e0ef909b2",
   "metadata": {
    "ExecuteTime": {
     "end_time": "2025-03-22T04:10:58.992567Z",
     "start_time": "2025-03-22T04:10:58.981164Z"
    }
   },
   "source": [
    "log_queue = queue.Queue()\n",
    "\n",
    "def log_handler():\n",
    "    \"\"\"Thread that reads from the queue and prints messages safely.\"\"\"\n",
    "    while True:\n",
    "        message = log_queue.get()\n",
    "        if message is None:\n",
    "            break\n",
    "        display(message)\n",
    "        log_queue.task_done()\n",
    "\n",
    "def log(message):\n",
    "    log_queue.put(message)\n",
    "\n",
    "log_thread = threading.Thread(target=log_handler)\n",
    "log_thread.start()"
   ],
   "outputs": [],
   "execution_count": 2
  },
  {
   "metadata": {
    "ExecuteTime": {
     "end_time": "2025-03-22T04:10:59.117792Z",
     "start_time": "2025-03-22T04:10:59.103282Z"
    }
   },
   "cell_type": "code",
   "source": "N = 5  # Number of philosophers",
   "id": "e877cb156adfc37e",
   "outputs": [],
   "execution_count": 3
  },
  {
   "metadata": {
    "ExecuteTime": {
     "end_time": "2025-03-22T04:10:59.148593Z",
     "start_time": "2025-03-22T04:10:59.133723Z"
    }
   },
   "cell_type": "code",
   "source": [
    "class Semaphore:\n",
    "    def __init__(self, value=1):\n",
    "        self.value = value\n",
    "        self.condition = threading.Condition()\n",
    "\n",
    "    def acquire(self):\n",
    "        with self.condition:\n",
    "            while self.value == 0:\n",
    "                self.condition.wait()\n",
    "            self.value -= 1\n",
    "\n",
    "    def release(self):\n",
    "        with self.condition:\n",
    "            self.value += 1\n",
    "            self.condition.notify_all()"
   ],
   "id": "9ee210b4fdae72f3",
   "outputs": [],
   "execution_count": 4
  },
  {
   "metadata": {
    "ExecuteTime": {
     "end_time": "2025-03-22T04:10:59.179667Z",
     "start_time": "2025-03-22T04:10:59.165177Z"
    }
   },
   "cell_type": "code",
   "source": [
    "class Mutex:\n",
    "    def __init__(self):\n",
    "        self.lock = threading.Condition()\n",
    "        self.is_locked = False\n",
    "\n",
    "    def acquire(self):\n",
    "        with self.lock:\n",
    "            while self.is_locked:\n",
    "                self.lock.wait()\n",
    "            self.is_locked = True\n",
    "\n",
    "    def release(self):\n",
    "        with self.lock:\n",
    "            self.is_locked = False\n",
    "            self.lock.notify_all()"
   ],
   "id": "906ba0e728905d6b",
   "outputs": [],
   "execution_count": 5
  },
  {
   "metadata": {
    "ExecuteTime": {
     "end_time": "2025-03-22T04:10:59.210312Z",
     "start_time": "2025-03-22T04:10:59.196129Z"
    }
   },
   "cell_type": "code",
   "source": [
    "def think(philosopher_id):\n",
    "    log(f\"Philosopher {philosopher_id} is thinking.\")\n",
    "    time.sleep(random.uniform(0.2, 0.5))\n",
    "\n",
    "def eat(philosopher_id):\n",
    "    log(f\"Philosopher {philosopher_id} is eating.\")\n",
    "    time.sleep(random.uniform(0.2, 0.5))"
   ],
   "id": "b620ffe39e1e3513",
   "outputs": [],
   "execution_count": 6
  },
  {
   "metadata": {
    "ExecuteTime": {
     "end_time": "2025-03-22T04:10:59.240921Z",
     "start_time": "2025-03-22T04:10:59.226750Z"
    }
   },
   "cell_type": "code",
   "source": [
    "# Solution 1: Using Semaphore\n",
    "class PhilosophersSemaphoreStrategy:\n",
    "    def __init__(self):\n",
    "        self.forks = [Mutex() for _ in range(N)]\n",
    "        self.room = Semaphore(N - 1)  # Only allow N-1 philosophers at a time\n",
    "\n",
    "    def dine(self, philosopher_id, stop_event):\n",
    "        first_fork, second_fork = philosopher_id, (philosopher_id + 1) % N\n",
    "        while not stop_event.is_set():\n",
    "            think(philosopher_id)\n",
    "\n",
    "            self.room.acquire()\n",
    "            self.forks[first_fork].acquire()\n",
    "            self.forks[second_fork].acquire()\n",
    "\n",
    "            eat(philosopher_id)\n",
    "\n",
    "            self.forks[first_fork].release()\n",
    "            self.forks[second_fork].release()\n",
    "            self.room.release()"
   ],
   "id": "2231ee3d2aa69f57",
   "outputs": [],
   "execution_count": 7
  },
  {
   "metadata": {
    "ExecuteTime": {
     "end_time": "2025-03-22T04:10:59.272721Z",
     "start_time": "2025-03-22T04:10:59.257921Z"
    }
   },
   "cell_type": "code",
   "source": [
    "# Solution 2: Using Mutex\n",
    "class PhilosophersMutexStrategy:\n",
    "    def __init__(self):\n",
    "        self.forks = [Mutex() for _ in range(N)]\n",
    "        self.mutex = Mutex()\n",
    "\n",
    "    def dine(self, philosopher_id, stop_event):\n",
    "        first_fork, second_fork = philosopher_id, (philosopher_id + 1) % N\n",
    "        while not stop_event.is_set():\n",
    "            think(philosopher_id)\n",
    "\n",
    "            self.mutex.acquire()\n",
    "            if self.forks[first_fork].is_locked or self.forks[second_fork].is_locked:\n",
    "                log(f\"Philosopher {philosopher_id} failed to eat.\")\n",
    "                self.mutex.release()\n",
    "                continue\n",
    "            self.forks[first_fork].acquire()\n",
    "            self.forks[second_fork].acquire()\n",
    "            self.mutex.release()\n",
    "\n",
    "            eat(philosopher_id)\n",
    "\n",
    "            self.forks[first_fork].release()\n",
    "            self.forks[second_fork].release()"
   ],
   "id": "2b4de42bdc0af228",
   "outputs": [],
   "execution_count": 8
  },
  {
   "metadata": {
    "ExecuteTime": {
     "end_time": "2025-03-22T04:10:59.303485Z",
     "start_time": "2025-03-22T04:10:59.289528Z"
    }
   },
   "cell_type": "code",
   "source": [
    "class Simulation(threading.Thread):\n",
    "    def __init__(self, strategy):\n",
    "        super().__init__()\n",
    "        self._stop_event = threading.Event()\n",
    "        self.philosophers = [\n",
    "            threading.Thread(target=strategy.dine, args=(i, self._stop_event))\n",
    "            for i in range(N)\n",
    "        ]\n",
    "\n",
    "    def run(self):\n",
    "        for p in self.philosophers:\n",
    "            p.start()\n",
    "\n",
    "    def stop(self):\n",
    "        self._stop_event.set()\n",
    "        for p in self.philosophers:\n",
    "            p.join()"
   ],
   "id": "97abc9df8d6acd7a",
   "outputs": [],
   "execution_count": 9
  },
  {
   "metadata": {
    "ExecuteTime": {
     "end_time": "2025-03-22T04:11:02.303404Z",
     "start_time": "2025-03-22T04:10:59.319664Z"
    }
   },
   "cell_type": "code",
   "source": [
    "stg = PhilosophersSemaphoreStrategy()\n",
    "simulation_thread = Simulation(stg)\n",
    "simulation_thread.start()\n",
    "time.sleep(2)\n",
    "\n",
    "simulation_thread.stop()\n",
    "simulation_thread.join()"
   ],
   "id": "ff2963eaffaf6eb6",
   "outputs": [
    {
     "data": {
      "text/plain": [
       "'Philosopher 0 is thinking.'"
      ]
     },
     "metadata": {},
     "output_type": "display_data"
    },
    {
     "data": {
      "text/plain": [
       "'Philosopher 1 is thinking.'"
      ]
     },
     "metadata": {},
     "output_type": "display_data"
    },
    {
     "data": {
      "text/plain": [
       "'Philosopher 2 is thinking.'"
      ]
     },
     "metadata": {},
     "output_type": "display_data"
    },
    {
     "data": {
      "text/plain": [
       "'Philosopher 3 is thinking.'"
      ]
     },
     "metadata": {},
     "output_type": "display_data"
    },
    {
     "data": {
      "text/plain": [
       "'Philosopher 4 is thinking.'"
      ]
     },
     "metadata": {},
     "output_type": "display_data"
    },
    {
     "data": {
      "text/plain": [
       "'Philosopher 1 is eating.'"
      ]
     },
     "metadata": {},
     "output_type": "display_data"
    },
    {
     "data": {
      "text/plain": [
       "'Philosopher 1 is thinking.'"
      ]
     },
     "metadata": {},
     "output_type": "display_data"
    },
    {
     "data": {
      "text/plain": [
       "'Philosopher 0 is eating.'"
      ]
     },
     "metadata": {},
     "output_type": "display_data"
    },
    {
     "data": {
      "text/plain": [
       "'Philosopher 2 is eating.'"
      ]
     },
     "metadata": {},
     "output_type": "display_data"
    },
    {
     "data": {
      "text/plain": [
       "'Philosopher 2 is thinking.'"
      ]
     },
     "metadata": {},
     "output_type": "display_data"
    },
    {
     "data": {
      "text/plain": [
       "'Philosopher 0 is thinking.'"
      ]
     },
     "metadata": {},
     "output_type": "display_data"
    },
    {
     "data": {
      "text/plain": [
       "'Philosopher 4 is eating.'"
      ]
     },
     "metadata": {},
     "output_type": "display_data"
    },
    {
     "data": {
      "text/plain": [
       "'Philosopher 1 is eating.'"
      ]
     },
     "metadata": {},
     "output_type": "display_data"
    },
    {
     "data": {
      "text/plain": [
       "'Philosopher 1 is thinking.'"
      ]
     },
     "metadata": {},
     "output_type": "display_data"
    },
    {
     "data": {
      "text/plain": [
       "'Philosopher 4 is thinking.'"
      ]
     },
     "metadata": {},
     "output_type": "display_data"
    },
    {
     "data": {
      "text/plain": [
       "'Philosopher 3 is eating.'"
      ]
     },
     "metadata": {},
     "output_type": "display_data"
    },
    {
     "data": {
      "text/plain": [
       "'Philosopher 0 is eating.'"
      ]
     },
     "metadata": {},
     "output_type": "display_data"
    },
    {
     "data": {
      "text/plain": [
       "'Philosopher 0 is thinking.'"
      ]
     },
     "metadata": {},
     "output_type": "display_data"
    },
    {
     "data": {
      "text/plain": [
       "'Philosopher 3 is thinking.'"
      ]
     },
     "metadata": {},
     "output_type": "display_data"
    },
    {
     "data": {
      "text/plain": [
       "'Philosopher 4 is eating.'"
      ]
     },
     "metadata": {},
     "output_type": "display_data"
    },
    {
     "data": {
      "text/plain": [
       "'Philosopher 2 is eating.'"
      ]
     },
     "metadata": {},
     "output_type": "display_data"
    },
    {
     "data": {
      "text/plain": [
       "'Philosopher 1 is eating.'"
      ]
     },
     "metadata": {},
     "output_type": "display_data"
    },
    {
     "data": {
      "text/plain": [
       "'Philosopher 3 is eating.'"
      ]
     },
     "metadata": {},
     "output_type": "display_data"
    },
    {
     "data": {
      "text/plain": [
       "'Philosopher 0 is eating.'"
      ]
     },
     "metadata": {},
     "output_type": "display_data"
    }
   ],
   "execution_count": 10
  },
  {
   "metadata": {
    "ExecuteTime": {
     "end_time": "2025-03-22T04:11:04.903264Z",
     "start_time": "2025-03-22T04:11:02.320355Z"
    }
   },
   "cell_type": "code",
   "source": [
    "stg = PhilosophersMutexStrategy()\n",
    "simulation_thread = Simulation(stg)\n",
    "simulation_thread.start()\n",
    "time.sleep(2)\n",
    "\n",
    "simulation_thread.stop()\n",
    "simulation_thread.join()"
   ],
   "id": "f790d4934afe0438",
   "outputs": [
    {
     "data": {
      "text/plain": [
       "'Philosopher 0 is thinking.'"
      ]
     },
     "metadata": {},
     "output_type": "display_data"
    },
    {
     "data": {
      "text/plain": [
       "'Philosopher 1 is thinking.'"
      ]
     },
     "metadata": {},
     "output_type": "display_data"
    },
    {
     "data": {
      "text/plain": [
       "'Philosopher 2 is thinking.'"
      ]
     },
     "metadata": {},
     "output_type": "display_data"
    },
    {
     "data": {
      "text/plain": [
       "'Philosopher 3 is thinking.'"
      ]
     },
     "metadata": {},
     "output_type": "display_data"
    },
    {
     "data": {
      "text/plain": [
       "'Philosopher 4 is thinking.'"
      ]
     },
     "metadata": {},
     "output_type": "display_data"
    },
    {
     "data": {
      "text/plain": [
       "'Philosopher 2 is eating.'"
      ]
     },
     "metadata": {},
     "output_type": "display_data"
    },
    {
     "data": {
      "text/plain": [
       "'Philosopher 1 failed to eat.'"
      ]
     },
     "metadata": {},
     "output_type": "display_data"
    },
    {
     "data": {
      "text/plain": [
       "'Philosopher 1 is thinking.'"
      ]
     },
     "metadata": {},
     "output_type": "display_data"
    },
    {
     "data": {
      "text/plain": [
       "'Philosopher 3 failed to eat.'"
      ]
     },
     "metadata": {},
     "output_type": "display_data"
    },
    {
     "data": {
      "text/plain": [
       "'Philosopher 3 is thinking.'"
      ]
     },
     "metadata": {},
     "output_type": "display_data"
    },
    {
     "data": {
      "text/plain": [
       "'Philosopher 0 is eating.'"
      ]
     },
     "metadata": {},
     "output_type": "display_data"
    },
    {
     "data": {
      "text/plain": [
       "'Philosopher 4 failed to eat.'"
      ]
     },
     "metadata": {},
     "output_type": "display_data"
    },
    {
     "data": {
      "text/plain": [
       "'Philosopher 4 is thinking.'"
      ]
     },
     "metadata": {},
     "output_type": "display_data"
    },
    {
     "data": {
      "text/plain": [
       "'Philosopher 3 failed to eat.'"
      ]
     },
     "metadata": {},
     "output_type": "display_data"
    },
    {
     "data": {
      "text/plain": [
       "'Philosopher 3 is thinking.'"
      ]
     },
     "metadata": {},
     "output_type": "display_data"
    },
    {
     "data": {
      "text/plain": [
       "'Philosopher 2 is thinking.'"
      ]
     },
     "metadata": {},
     "output_type": "display_data"
    },
    {
     "data": {
      "text/plain": [
       "'Philosopher 1 failed to eat.'"
      ]
     },
     "metadata": {},
     "output_type": "display_data"
    },
    {
     "data": {
      "text/plain": [
       "'Philosopher 1 is thinking.'"
      ]
     },
     "metadata": {},
     "output_type": "display_data"
    },
    {
     "data": {
      "text/plain": [
       "'Philosopher 4 failed to eat.'"
      ]
     },
     "metadata": {},
     "output_type": "display_data"
    },
    {
     "data": {
      "text/plain": [
       "'Philosopher 4 is thinking.'"
      ]
     },
     "metadata": {},
     "output_type": "display_data"
    },
    {
     "data": {
      "text/plain": [
       "'Philosopher 3 is eating.'"
      ]
     },
     "metadata": {},
     "output_type": "display_data"
    },
    {
     "data": {
      "text/plain": [
       "'Philosopher 0 is thinking.'"
      ]
     },
     "metadata": {},
     "output_type": "display_data"
    },
    {
     "data": {
      "text/plain": [
       "'Philosopher 2 failed to eat.'"
      ]
     },
     "metadata": {},
     "output_type": "display_data"
    },
    {
     "data": {
      "text/plain": [
       "'Philosopher 2 is thinking.'"
      ]
     },
     "metadata": {},
     "output_type": "display_data"
    },
    {
     "data": {
      "text/plain": [
       "'Philosopher 0 is eating.'"
      ]
     },
     "metadata": {},
     "output_type": "display_data"
    },
    {
     "data": {
      "text/plain": [
       "'Philosopher 4 failed to eat.'"
      ]
     },
     "metadata": {},
     "output_type": "display_data"
    },
    {
     "data": {
      "text/plain": [
       "'Philosopher 4 is thinking.'"
      ]
     },
     "metadata": {},
     "output_type": "display_data"
    },
    {
     "data": {
      "text/plain": [
       "'Philosopher 1 failed to eat.'"
      ]
     },
     "metadata": {},
     "output_type": "display_data"
    },
    {
     "data": {
      "text/plain": [
       "'Philosopher 1 is thinking.'"
      ]
     },
     "metadata": {},
     "output_type": "display_data"
    },
    {
     "data": {
      "text/plain": [
       "'Philosopher 3 is thinking.'"
      ]
     },
     "metadata": {},
     "output_type": "display_data"
    },
    {
     "data": {
      "text/plain": [
       "'Philosopher 2 is eating.'"
      ]
     },
     "metadata": {},
     "output_type": "display_data"
    },
    {
     "data": {
      "text/plain": [
       "'Philosopher 4 failed to eat.'"
      ]
     },
     "metadata": {},
     "output_type": "display_data"
    },
    {
     "data": {
      "text/plain": [
       "'Philosopher 4 is thinking.'"
      ]
     },
     "metadata": {},
     "output_type": "display_data"
    },
    {
     "data": {
      "text/plain": [
       "'Philosopher 3 failed to eat.'"
      ]
     },
     "metadata": {},
     "output_type": "display_data"
    },
    {
     "data": {
      "text/plain": [
       "'Philosopher 3 is thinking.'"
      ]
     },
     "metadata": {},
     "output_type": "display_data"
    },
    {
     "data": {
      "text/plain": [
       "'Philosopher 0 is thinking.'"
      ]
     },
     "metadata": {},
     "output_type": "display_data"
    },
    {
     "data": {
      "text/plain": [
       "'Philosopher 1 failed to eat.'"
      ]
     },
     "metadata": {},
     "output_type": "display_data"
    },
    {
     "data": {
      "text/plain": [
       "'Philosopher 1 is thinking.'"
      ]
     },
     "metadata": {},
     "output_type": "display_data"
    },
    {
     "data": {
      "text/plain": [
       "'Philosopher 3 failed to eat.'"
      ]
     },
     "metadata": {},
     "output_type": "display_data"
    },
    {
     "data": {
      "text/plain": [
       "'Philosopher 3 is thinking.'"
      ]
     },
     "metadata": {},
     "output_type": "display_data"
    },
    {
     "data": {
      "text/plain": [
       "'Philosopher 2 is thinking.'"
      ]
     },
     "metadata": {},
     "output_type": "display_data"
    },
    {
     "data": {
      "text/plain": [
       "'Philosopher 4 is eating.'"
      ]
     },
     "metadata": {},
     "output_type": "display_data"
    },
    {
     "data": {
      "text/plain": [
       "'Philosopher 0 failed to eat.'"
      ]
     },
     "metadata": {},
     "output_type": "display_data"
    },
    {
     "data": {
      "text/plain": [
       "'Philosopher 1 is eating.'"
      ]
     },
     "metadata": {},
     "output_type": "display_data"
    },
    {
     "data": {
      "text/plain": [
       "'Philosopher 3 is eating.'"
      ]
     },
     "metadata": {},
     "output_type": "display_data"
    },
    {
     "data": {
      "text/plain": [
       "'Philosopher 2 failed to eat.'"
      ]
     },
     "metadata": {},
     "output_type": "display_data"
    }
   ],
   "execution_count": 11
  },
  {
   "metadata": {
    "ExecuteTime": {
     "end_time": "2025-03-22T04:11:04.934096Z",
     "start_time": "2025-03-22T04:11:04.919520Z"
    }
   },
   "cell_type": "code",
   "source": [
    "# Stop the logger\n",
    "log(None)\n",
    "log_thread.join()"
   ],
   "id": "2196159cb259f790",
   "outputs": [],
   "execution_count": 12
  }
 ],
 "metadata": {
  "kernelspec": {
   "display_name": "Python 3 (ipykernel)",
   "language": "python",
   "name": "python3"
  },
  "language_info": {
   "codemirror_mode": {
    "name": "ipython",
    "version": 3
   },
   "file_extension": ".py",
   "mimetype": "text/x-python",
   "name": "python",
   "nbconvert_exporter": "python",
   "pygments_lexer": "ipython3",
   "version": "3.9.13"
  }
 },
 "nbformat": 4,
 "nbformat_minor": 5
}
