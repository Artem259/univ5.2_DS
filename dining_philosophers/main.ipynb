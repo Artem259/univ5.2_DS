{
 "cells": [
  {
   "cell_type": "code",
   "id": "48d3dec972956fe",
   "metadata": {
    "ExecuteTime": {
     "end_time": "2025-03-21T21:27:43.954114Z",
     "start_time": "2025-03-21T21:27:43.946132Z"
    }
   },
   "source": [
    "import threading\n",
    "import queue\n",
    "from IPython.display import display"
   ],
   "outputs": [],
   "execution_count": 1
  },
  {
   "cell_type": "code",
   "id": "9cd55e9e0ef909b2",
   "metadata": {
    "ExecuteTime": {
     "end_time": "2025-03-21T21:27:43.985866Z",
     "start_time": "2025-03-21T21:27:43.967738Z"
    }
   },
   "source": [
    "log_queue = queue.Queue()\n",
    "\n",
    "def log_handler():\n",
    "    \"\"\"Thread that reads from the queue and prints messages safely.\"\"\"\n",
    "    while True:\n",
    "        message = log_queue.get()\n",
    "        if message is None:\n",
    "            break\n",
    "        display(message)\n",
    "        log_queue.task_done()\n",
    "\n",
    "def log(message):\n",
    "    log_queue.put(message)\n",
    "\n",
    "log_thread = threading.Thread(target=log_handler)\n",
    "log_thread.start()"
   ],
   "outputs": [],
   "execution_count": 2
  },
  {
   "metadata": {
    "ExecuteTime": {
     "end_time": "2025-03-21T21:27:44.110472Z",
     "start_time": "2025-03-21T21:27:44.096226Z"
    }
   },
   "cell_type": "code",
   "source": "log(\"...\")",
   "id": "906ba0e728905d6b",
   "outputs": [
    {
     "data": {
      "text/plain": [
       "'...'"
      ]
     },
     "metadata": {},
     "output_type": "display_data"
    }
   ],
   "execution_count": 3
  },
  {
   "metadata": {
    "ExecuteTime": {
     "end_time": "2025-03-21T21:27:44.142480Z",
     "start_time": "2025-03-21T21:27:44.127880Z"
    }
   },
   "cell_type": "code",
   "source": [
    "# Stop the logger\n",
    "log(None)\n",
    "log_thread.join()"
   ],
   "id": "2196159cb259f790",
   "outputs": [],
   "execution_count": 4
  }
 ],
 "metadata": {
  "kernelspec": {
   "display_name": "Python 3 (ipykernel)",
   "language": "python",
   "name": "python3"
  },
  "language_info": {
   "codemirror_mode": {
    "name": "ipython",
    "version": 3
   },
   "file_extension": ".py",
   "mimetype": "text/x-python",
   "name": "python",
   "nbconvert_exporter": "python",
   "pygments_lexer": "ipython3",
   "version": "3.9.13"
  }
 },
 "nbformat": 4,
 "nbformat_minor": 5
}
