{
 "cells": [
  {
   "cell_type": "code",
   "id": "cd4e4260741a1d6b",
   "metadata": {},
   "source": [
    "import threading\n",
    "import queue\n",
    "import time"
   ],
   "outputs": [],
   "execution_count": null
  },
  {
   "cell_type": "markdown",
   "id": "b4eceed360fad237",
   "metadata": {},
   "source": [
    "##### Declaring the number of nodes"
   ]
  },
  {
   "cell_type": "code",
   "id": "4212183e79a5c9d4",
   "metadata": {},
   "source": "n = 12",
   "outputs": [],
   "execution_count": null
  },
  {
   "metadata": {},
   "cell_type": "markdown",
   "source": "##### Declaring Node class",
   "id": "46388f79b2584fd8"
  },
  {
   "metadata": {},
   "cell_type": "code",
   "source": [
    "class Node:\n",
    "    def __init__(self, node_id, total_nodes, queues):\n",
    "        self.node_id = node_id\n",
    "        self.total_nodes = total_nodes\n",
    "        self.queues = queues\n",
    "        self.in_queue = queues[node_id]\n",
    "        self.prev_queue = queues[node_id - 1]\n",
    "        self.next_queue = queues[(node_id + 1) % total_nodes]\n",
    "        self.status = 'unknown'\n",
    "\n",
    "    def send_prev(self, data):\n",
    "        self.prev_queue.put(data)\n",
    "\n",
    "    def send_next(self, data):\n",
    "        self.next_queue.put(data)\n",
    "\n",
    "    def accept(self):\n",
    "        data = self.in_queue.get()\n",
    "        self.in_queue.task_done()\n",
    "        return data"
   ],
   "id": "5944da8db6790d15",
   "outputs": [],
   "execution_count": null
  },
  {
   "metadata": {},
   "cell_type": "markdown",
   "source": "#### LCR algorithm",
   "id": "f8a704c5776c2d7a"
  },
  {
   "metadata": {},
   "cell_type": "code",
   "source": [
    "def lcr_node_worker(node):\n",
    "    u = node.node_id\n",
    "    send = node.node_id\n",
    "\n",
    "    while True:\n",
    "        node.send_next(send)\n",
    "\n",
    "        v = node.accept()\n",
    "        if v == \"TERM\":\n",
    "            break\n",
    "\n",
    "        if v is None:\n",
    "            send = v\n",
    "            continue\n",
    "        if v > u:\n",
    "            send = v\n",
    "            node.status = 'non-leader'\n",
    "        elif v < u:\n",
    "            send = None\n",
    "        else:\n",
    "            node.status = 'leader'\n",
    "            return"
   ],
   "id": "3881df357d056d4",
   "outputs": [],
   "execution_count": null
  },
  {
   "metadata": {},
   "cell_type": "code",
   "source": [
    "def lcr_run(total_nodes):\n",
    "    queues = [queue.Queue() for _ in range(total_nodes)]\n",
    "    nodes = [Node(i, total_nodes, queues) for i in range(total_nodes)]\n",
    "\n",
    "    threads = []\n",
    "    for node in nodes:\n",
    "        t = threading.Thread(target=lcr_node_worker, args=(node,))\n",
    "        t.start()\n",
    "        threads.append(t)\n",
    "\n",
    "    time.sleep(3)\n",
    "    for q in queues:\n",
    "        q.put(\"TERM\")\n",
    "\n",
    "    for t in threads:\n",
    "        t.join()\n",
    "\n",
    "    for node in nodes:\n",
    "        print(f\"{node.node_id}: {node.status}\")\n",
    "    print(\"\\nLCR algorithm complete.\")"
   ],
   "id": "b209c1ee050f59a3",
   "outputs": [],
   "execution_count": null
  },
  {
   "metadata": {},
   "cell_type": "code",
   "source": "lcr_run(n)",
   "id": "ca80dfc97b06fa6e",
   "outputs": [],
   "execution_count": null
  },
  {
   "metadata": {},
   "cell_type": "markdown",
   "source": "#### HS algorithm",
   "id": "fcc3a3bfd84e7a96"
  },
  {
   "metadata": {},
   "cell_type": "code",
   "source": [
    "def hs_node_worker(node):\n",
    "    u = node.node_id\n",
    "    send_plus = ('from_prev', u, 'out', 1)\n",
    "    send_minus = ('from_next', u, 'out', 1)\n",
    "    phase = 0\n",
    "\n",
    "    while True:\n",
    "        node.send_next(send_plus)\n",
    "        node.send_next(send_minus)\n",
    "\n",
    "        v_prev, v_next = None, None\n",
    "        while v_prev is None or v_next is None:\n",
    "            v = node.accept()\n",
    "            if v == \"TERM\":\n",
    "                return\n",
    "            if v is None:\n",
    "                continue\n",
    "            if v[0] == 'from_prev':\n",
    "                v_prev = v[1:]\n",
    "            if v[0] == 'from_next':\n",
    "                v_next = v[1:]\n",
    "\n",
    "        if v_prev[1] == 'out':\n",
    "            v, out, h = v_prev\n",
    "            if v > u and h > 1:\n",
    "                send_plus = ('from_prev', v, 'out', h - 1)\n",
    "            elif v > u and h == 1:\n",
    "                send_minus = ('from_next', v, 'in', 1)\n",
    "            elif v == u:\n",
    "                node.status = 'leader'\n",
    "\n",
    "        if v_next[1] == 'out':\n",
    "            v, out, h = v_next\n",
    "            if v > u and h > 1:\n",
    "                send_minus = ('from_next', v, 'out', h - 1)\n",
    "            elif v > u and h == 1:\n",
    "                send_plus = ('from_prev', v, 'in', 1)\n",
    "            elif v == u:\n",
    "                node.status = 'leader'\n",
    "\n",
    "        if v_prev[1] == 'in' and v_prev[2] == 1 and v_prev[0] != u:\n",
    "            v, in_, h = v_prev\n",
    "            send_plus = ('from_prev', v, 'in', 1)\n",
    "        if v_next[1] == 'in' and v_next[2] == 1 and v_next[0] != u:\n",
    "            v, in_, h = v_next\n",
    "            send_minus = ('from_next', v, 'in', 1)\n",
    "        if (v_prev[0] == u and v_prev[1] == 'in' and v_prev[2] == 1) and (v_next[0] == u and v_next[1] == 'in' and v_next[2] == 1):\n",
    "            phase += 1\n",
    "            send_plus = ('from_prev', u, 'out', 2 ** phase)\n",
    "            send_minus = ('from_next', u, 'out', 2 ** phase)\n"
   ],
   "id": "174c23c835bbfbdc",
   "outputs": [],
   "execution_count": null
  },
  {
   "metadata": {},
   "cell_type": "code",
   "source": [
    "def hs_run(total_nodes):\n",
    "    queues = [queue.Queue() for _ in range(total_nodes)]\n",
    "    nodes = [Node(i, total_nodes, queues) for i in range(total_nodes)]\n",
    "\n",
    "    threads = []\n",
    "    for node in nodes:\n",
    "        t = threading.Thread(target=hs_node_worker, args=(node,))\n",
    "        t.start()\n",
    "        threads.append(t)\n",
    "\n",
    "    time.sleep(3)\n",
    "    for q in queues:\n",
    "        q.put(\"TERM\")\n",
    "\n",
    "    for t in threads:\n",
    "        t.join()\n",
    "\n",
    "    for node in nodes:\n",
    "        print(f\"{node.node_id}: {node.status}\")\n",
    "    print(\"\\nHS algorithm complete.\")"
   ],
   "id": "f49f4e620398cc1f",
   "outputs": [],
   "execution_count": null
  },
  {
   "metadata": {},
   "cell_type": "code",
   "source": "hs_run(n)",
   "id": "7d7338a805d84cf5",
   "outputs": [],
   "execution_count": null
  }
 ],
 "metadata": {
  "kernelspec": {
   "display_name": "Python 3 (ipykernel)",
   "language": "python",
   "name": "python3"
  },
  "language_info": {
   "codemirror_mode": {
    "name": "ipython",
    "version": 3
   },
   "file_extension": ".py",
   "mimetype": "text/x-python",
   "name": "python",
   "nbconvert_exporter": "python",
   "pygments_lexer": "ipython3",
   "version": "3.9.13"
  }
 },
 "nbformat": 4,
 "nbformat_minor": 5
}
