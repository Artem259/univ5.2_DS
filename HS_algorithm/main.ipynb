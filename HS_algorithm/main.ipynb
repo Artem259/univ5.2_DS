{
 "cells": [
  {
   "cell_type": "code",
   "id": "cd4e4260741a1d6b",
   "metadata": {
    "ExecuteTime": {
     "end_time": "2025-02-03T19:10:38.484448Z",
     "start_time": "2025-02-03T19:10:38.410304Z"
    }
   },
   "source": [
    "import random\n",
    "import ipyparallel as ipp"
   ],
   "outputs": [],
   "execution_count": 1
  },
  {
   "cell_type": "markdown",
   "id": "b4eceed360fad237",
   "metadata": {},
   "source": [
    "##### Declaring the number of nodes"
   ]
  },
  {
   "cell_type": "code",
   "id": "4212183e79a5c9d4",
   "metadata": {
    "ExecuteTime": {
     "end_time": "2025-02-03T19:10:38.500470Z",
     "start_time": "2025-02-03T19:10:38.487891Z"
    }
   },
   "source": [
    "n = 6"
   ],
   "outputs": [],
   "execution_count": 2
  },
  {
   "cell_type": "markdown",
   "id": "177831fd-0742-46c0-a355-bc5afa574188",
   "metadata": {},
   "source": [
    "##### Generating node UIDs"
   ]
  },
  {
   "cell_type": "code",
   "id": "7b8c71ae60feb9cd",
   "metadata": {
    "ExecuteTime": {
     "end_time": "2025-02-03T19:10:38.610851Z",
     "start_time": "2025-02-03T19:10:38.596043Z"
    }
   },
   "source": [
    "uids = random.sample(range(1, (n * 10) + 1), n)\n",
    "\n",
    "print(f\"Generated {n} UIDs from the range [1, {n * 10}]\")\n",
    "print(\"Min UID:\", min(uids))\n",
    "print(\"Max UID:\", max(uids))"
   ],
   "outputs": [
    {
     "name": "stdout",
     "output_type": "stream",
     "text": [
      "Generated 6 UIDs from the range [1, 60]\n",
      "Min UID: 2\n",
      "Max UID: 58\n"
     ]
    }
   ],
   "execution_count": 3
  },
  {
   "cell_type": "markdown",
   "id": "9fe8f6c6ffb4a455",
   "metadata": {},
   "source": [
    "##### Connecting to the engines"
   ]
  },
  {
   "cell_type": "code",
   "id": "f5f3017b18e966fa",
   "metadata": {
    "ExecuteTime": {
     "end_time": "2025-02-03T19:10:38.812278Z",
     "start_time": "2025-02-03T19:10:38.675114Z"
    }
   },
   "source": [
    "cluster = ipp.Cluster.from_file()\n",
    "rc = cluster.connect_client_sync()\n",
    "rc.wait_for_engines(n)\n",
    "\n",
    "print(f\"Number of available engines: {len(rc.ids)}\")"
   ],
   "outputs": [
    {
     "name": "stdout",
     "output_type": "stream",
     "text": [
      "Number of available engines: 6\n"
     ]
    }
   ],
   "execution_count": 4
  },
  {
   "cell_type": "markdown",
   "id": "9d3790a7c1ba774d",
   "metadata": {},
   "source": "#### 'Hello, World!' message from nodes"
  },
  {
   "cell_type": "code",
   "id": "3d1581d022dfc4ae",
   "metadata": {
    "ExecuteTime": {
     "end_time": "2025-02-03T19:10:38.889248Z",
     "start_time": "2025-02-03T19:10:38.877180Z"
    }
   },
   "source": [
    "def hello_world(params):\n",
    "    uid = params[0]\n",
    "    n = params[1]\n",
    "    return f\"Hello, World! UID: {uid}, Total Nodes: {n}\""
   ],
   "outputs": [],
   "execution_count": 5
  },
  {
   "cell_type": "code",
   "id": "567048f9125d5ca8",
   "metadata": {
    "ExecuteTime": {
     "end_time": "2025-02-03T19:10:38.920259Z",
     "start_time": "2025-02-03T19:10:38.906096Z"
    }
   },
   "source": [
    "params = zip(uids, [n] * n)\n",
    "\n",
    "results = rc[:].map_sync(hello_world, params)\n",
    "print(\"\\n\".join(results))"
   ],
   "outputs": [
    {
     "name": "stdout",
     "output_type": "stream",
     "text": [
      "Hello, World! UID: 41, Total Nodes: 6\n",
      "Hello, World! UID: 36, Total Nodes: 6\n",
      "Hello, World! UID: 40, Total Nodes: 6\n",
      "Hello, World! UID: 58, Total Nodes: 6\n",
      "Hello, World! UID: 2, Total Nodes: 6\n",
      "Hello, World! UID: 29, Total Nodes: 6\n"
     ]
    }
   ],
   "execution_count": 6
  },
  {
   "metadata": {},
   "cell_type": "markdown",
   "source": "#### LCR algorithm",
   "id": "24b1ad0be29f1d80"
  },
  {
   "metadata": {
    "ExecuteTime": {
     "end_time": "2025-02-03T19:10:38.951156Z",
     "start_time": "2025-02-03T19:10:38.937178Z"
    }
   },
   "cell_type": "code",
   "source": "# TODO",
   "id": "5b06ba5cdced679c",
   "outputs": [],
   "execution_count": 7
  },
  {
   "metadata": {},
   "cell_type": "markdown",
   "source": "#### HS algorithm",
   "id": "fcc3a3bfd84e7a96"
  },
  {
   "metadata": {
    "ExecuteTime": {
     "end_time": "2025-02-03T19:10:38.981709Z",
     "start_time": "2025-02-03T19:10:38.967606Z"
    }
   },
   "cell_type": "code",
   "source": "# TODO",
   "id": "174c23c835bbfbdc",
   "outputs": [],
   "execution_count": 8
  }
 ],
 "metadata": {
  "kernelspec": {
   "display_name": "Python 3 (ipykernel)",
   "language": "python",
   "name": "python3"
  },
  "language_info": {
   "codemirror_mode": {
    "name": "ipython",
    "version": 3
   },
   "file_extension": ".py",
   "mimetype": "text/x-python",
   "name": "python",
   "nbconvert_exporter": "python",
   "pygments_lexer": "ipython3",
   "version": "3.9.13"
  }
 },
 "nbformat": 4,
 "nbformat_minor": 5
}
