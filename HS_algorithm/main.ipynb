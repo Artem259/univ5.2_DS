{
 "cells": [
  {
   "cell_type": "code",
   "id": "cd4e4260741a1d6b",
   "metadata": {
    "ExecuteTime": {
     "end_time": "2025-02-04T11:09:09.003095Z",
     "start_time": "2025-02-04T11:09:08.991884Z"
    }
   },
   "source": [
    "import threading\n",
    "import queue\n",
    "import time"
   ],
   "outputs": [],
   "execution_count": 1
  },
  {
   "cell_type": "markdown",
   "id": "b4eceed360fad237",
   "metadata": {},
   "source": [
    "##### Declaring the number of nodes"
   ]
  },
  {
   "cell_type": "code",
   "id": "4212183e79a5c9d4",
   "metadata": {
    "ExecuteTime": {
     "end_time": "2025-02-04T11:09:09.018810Z",
     "start_time": "2025-02-04T11:09:09.008827Z"
    }
   },
   "source": "n = 12",
   "outputs": [],
   "execution_count": 2
  },
  {
   "metadata": {},
   "cell_type": "markdown",
   "source": "##### Declaring Node class",
   "id": "46388f79b2584fd8"
  },
  {
   "metadata": {
    "ExecuteTime": {
     "end_time": "2025-02-04T11:09:09.143500Z",
     "start_time": "2025-02-04T11:09:09.128645Z"
    }
   },
   "cell_type": "code",
   "source": [
    "class Node:\n",
    "    def __init__(self, uid, in_queue, prev_queue, next_queue):\n",
    "        self.uid = uid\n",
    "        self.status = 'unknown'\n",
    "        self._in_queue = in_queue\n",
    "        self._prev_queue = prev_queue\n",
    "        self._next_queue = next_queue\n",
    "\n",
    "    def send_prev(self, data):\n",
    "        self._prev_queue.put(data)\n",
    "\n",
    "    def send_next(self, data):\n",
    "        self._next_queue.put(data)\n",
    "\n",
    "    def accept(self):\n",
    "        data = self._in_queue.get()\n",
    "        self._in_queue.task_done()\n",
    "        return data"
   ],
   "id": "5944da8db6790d15",
   "outputs": [],
   "execution_count": 3
  },
  {
   "metadata": {},
   "cell_type": "markdown",
   "source": "#### LCR algorithm",
   "id": "f8a704c5776c2d7a"
  },
  {
   "metadata": {
    "ExecuteTime": {
     "end_time": "2025-02-04T11:09:09.173336Z",
     "start_time": "2025-02-04T11:09:09.160750Z"
    }
   },
   "cell_type": "code",
   "source": [
    "def lcr_node_worker(node):\n",
    "    u = node.uid\n",
    "    send = node.uid\n",
    "\n",
    "    while True:\n",
    "        node.send_next(send)\n",
    "\n",
    "        v = node.accept()\n",
    "        if v == \"TERM\":\n",
    "            break\n",
    "\n",
    "        if v is None:\n",
    "            send = v\n",
    "            continue\n",
    "        if v > u:\n",
    "            send = v\n",
    "            node.status = 'non-leader'\n",
    "        elif v < u:\n",
    "            send = None\n",
    "        else:\n",
    "            node.status = 'leader'\n",
    "            return"
   ],
   "id": "3881df357d056d4",
   "outputs": [],
   "execution_count": 4
  },
  {
   "metadata": {
    "ExecuteTime": {
     "end_time": "2025-02-04T11:09:09.203578Z",
     "start_time": "2025-02-04T11:09:09.189452Z"
    }
   },
   "cell_type": "code",
   "source": [
    "def lcr_run(total_nodes):\n",
    "    queues = [queue.Queue() for _ in range(total_nodes)]\n",
    "    prev_queues = [queues[(i - 1) % total_nodes] for i in range(total_nodes)]\n",
    "    next_queues = [queues[(i + 1) % total_nodes] for i in range(total_nodes)]\n",
    "    nodes = [Node(i, queues[i], prev_queues[i], next_queues[i]) for i in range(total_nodes)]\n",
    "\n",
    "    threads = []\n",
    "    for node in nodes:\n",
    "        t = threading.Thread(target=lcr_node_worker, args=(node,))\n",
    "        t.start()\n",
    "        threads.append(t)\n",
    "\n",
    "    time.sleep(3)\n",
    "    for q in queues:\n",
    "        q.put(\"TERM\")\n",
    "\n",
    "    for t in threads:\n",
    "        t.join()\n",
    "\n",
    "    for node in nodes:\n",
    "        print(f\"{node.uid}: {node.status}\")\n",
    "    print(\"\\nLCR algorithm complete.\")"
   ],
   "id": "b209c1ee050f59a3",
   "outputs": [],
   "execution_count": 5
  },
  {
   "metadata": {
    "ExecuteTime": {
     "end_time": "2025-02-04T11:09:12.252701Z",
     "start_time": "2025-02-04T11:09:09.220033Z"
    }
   },
   "cell_type": "code",
   "source": "lcr_run(n)",
   "id": "ca80dfc97b06fa6e",
   "outputs": [
    {
     "name": "stdout",
     "output_type": "stream",
     "text": [
      "0: non-leader\n",
      "1: non-leader\n",
      "2: non-leader\n",
      "3: non-leader\n",
      "4: non-leader\n",
      "5: non-leader\n",
      "6: non-leader\n",
      "7: non-leader\n",
      "8: non-leader\n",
      "9: non-leader\n",
      "10: non-leader\n",
      "11: leader\n",
      "\n",
      "LCR algorithm complete.\n"
     ]
    }
   ],
   "execution_count": 6
  },
  {
   "metadata": {},
   "cell_type": "markdown",
   "source": "#### HS algorithm",
   "id": "fcc3a3bfd84e7a96"
  },
  {
   "metadata": {
    "ExecuteTime": {
     "end_time": "2025-02-04T11:09:12.299615Z",
     "start_time": "2025-02-04T11:09:12.284378Z"
    }
   },
   "cell_type": "code",
   "source": [
    "def hs_node_worker(node):\n",
    "    u = node.uid\n",
    "    send_plus = ('from_prev', u, 'out', 1)\n",
    "    send_minus = ('from_next', u, 'out', 1)\n",
    "    phase = 0\n",
    "\n",
    "    while True:\n",
    "        node.send_next(send_plus)\n",
    "        node.send_next(send_minus)\n",
    "\n",
    "        v_prev, v_next = None, None\n",
    "        while v_prev is None or v_next is None:\n",
    "            v = node.accept()\n",
    "            if v == \"TERM\":\n",
    "                return\n",
    "            if v is None:\n",
    "                continue\n",
    "            if v[0] == 'from_prev':\n",
    "                v_prev = v[1:]\n",
    "            if v[0] == 'from_next':\n",
    "                v_next = v[1:]\n",
    "\n",
    "        if v_prev[1] == 'out':\n",
    "            v, out, h = v_prev\n",
    "            if v > u and h > 1:\n",
    "                send_plus = ('from_prev', v, 'out', h - 1)\n",
    "            elif v > u and h == 1:\n",
    "                send_minus = ('from_next', v, 'in', 1)\n",
    "            elif v == u:\n",
    "                node.status = 'leader'\n",
    "\n",
    "        if v_next[1] == 'out':\n",
    "            v, out, h = v_next\n",
    "            if v > u and h > 1:\n",
    "                send_minus = ('from_next', v, 'out', h - 1)\n",
    "            elif v > u and h == 1:\n",
    "                send_plus = ('from_prev', v, 'in', 1)\n",
    "            elif v == u:\n",
    "                node.status = 'leader'\n",
    "\n",
    "        if v_prev[1] == 'in' and v_prev[2] == 1 and v_prev[0] != u:\n",
    "            v, in_, h = v_prev\n",
    "            send_plus = ('from_prev', v, 'in', 1)\n",
    "        if v_next[1] == 'in' and v_next[2] == 1 and v_next[0] != u:\n",
    "            v, in_, h = v_next\n",
    "            send_minus = ('from_next', v, 'in', 1)\n",
    "        if ((v_prev[0] == u and v_prev[1] == 'in' and v_prev[2] == 1)\n",
    "                and (v_next[0] == u and v_next[1] == 'in' and v_next[2] == 1)):\n",
    "            phase += 1\n",
    "            send_plus = ('from_prev', u, 'out', 2 ** phase)\n",
    "            send_minus = ('from_next', u, 'out', 2 ** phase)"
   ],
   "id": "174c23c835bbfbdc",
   "outputs": [],
   "execution_count": 7
  },
  {
   "metadata": {
    "ExecuteTime": {
     "end_time": "2025-02-04T11:09:12.314993Z",
     "start_time": "2025-02-04T11:09:12.302674Z"
    }
   },
   "cell_type": "code",
   "source": [
    "def hs_run(total_nodes):\n",
    "    queues = [queue.Queue() for _ in range(total_nodes)]\n",
    "    prev_queues = [queues[(i - 1) % total_nodes] for i in range(total_nodes)]\n",
    "    next_queues = [queues[(i + 1) % total_nodes] for i in range(total_nodes)]\n",
    "    nodes = [Node(i, queues[i], prev_queues[i], next_queues[i]) for i in range(total_nodes)]\n",
    "\n",
    "    threads = []\n",
    "    for node in nodes:\n",
    "        t = threading.Thread(target=hs_node_worker, args=(node,))\n",
    "        t.start()\n",
    "        threads.append(t)\n",
    "\n",
    "    time.sleep(3)\n",
    "    for q in queues:\n",
    "        q.put(\"TERM\")\n",
    "\n",
    "    for t in threads:\n",
    "        t.join()\n",
    "\n",
    "    for node in nodes:\n",
    "        print(f\"{node.uid}: {node.status}\")\n",
    "    print(\"\\nHS algorithm complete.\")"
   ],
   "id": "f49f4e620398cc1f",
   "outputs": [],
   "execution_count": 8
  },
  {
   "metadata": {
    "ExecuteTime": {
     "end_time": "2025-02-04T11:09:15.353461Z",
     "start_time": "2025-02-04T11:09:12.331521Z"
    }
   },
   "cell_type": "code",
   "source": "hs_run(n)",
   "id": "7d7338a805d84cf5",
   "outputs": [
    {
     "name": "stdout",
     "output_type": "stream",
     "text": [
      "0: unknown\n",
      "1: unknown\n",
      "2: unknown\n",
      "3: unknown\n",
      "4: unknown\n",
      "5: unknown\n",
      "6: unknown\n",
      "7: unknown\n",
      "8: unknown\n",
      "9: unknown\n",
      "10: unknown\n",
      "11: leader\n",
      "\n",
      "HS algorithm complete.\n"
     ]
    }
   ],
   "execution_count": 9
  }
 ],
 "metadata": {
  "kernelspec": {
   "display_name": "Python 3 (ipykernel)",
   "language": "python",
   "name": "python3"
  },
  "language_info": {
   "codemirror_mode": {
    "name": "ipython",
    "version": 3
   },
   "file_extension": ".py",
   "mimetype": "text/x-python",
   "name": "python",
   "nbconvert_exporter": "python",
   "pygments_lexer": "ipython3",
   "version": "3.9.13"
  }
 },
 "nbformat": 4,
 "nbformat_minor": 5
}
