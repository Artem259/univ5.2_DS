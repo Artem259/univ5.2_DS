{
 "cells": [
  {
   "cell_type": "code",
   "id": "cd4e4260741a1d6b",
   "metadata": {
    "ExecuteTime": {
     "end_time": "2025-02-04T21:53:31.363066Z",
     "start_time": "2025-02-04T21:53:31.352114Z"
    }
   },
   "source": [
    "import threading\n",
    "import queue\n",
    "import time"
   ],
   "outputs": [],
   "execution_count": 1
  },
  {
   "cell_type": "markdown",
   "id": "b4eceed360fad237",
   "metadata": {},
   "source": [
    "##### Declaring the number of nodes"
   ]
  },
  {
   "cell_type": "code",
   "id": "4212183e79a5c9d4",
   "metadata": {
    "ExecuteTime": {
     "end_time": "2025-02-04T21:53:31.378560Z",
     "start_time": "2025-02-04T21:53:31.366222Z"
    }
   },
   "source": "n = 12",
   "outputs": [],
   "execution_count": 2
  },
  {
   "metadata": {},
   "cell_type": "markdown",
   "source": "##### Declaring Node class",
   "id": "46388f79b2584fd8"
  },
  {
   "metadata": {
    "ExecuteTime": {
     "end_time": "2025-02-04T21:53:31.487970Z",
     "start_time": "2025-02-04T21:53:31.473437Z"
    }
   },
   "cell_type": "code",
   "source": [
    "class Node:\n",
    "    def __init__(self, uid, from_prev_q, from_next_q, to_prev_q, to_next_q):\n",
    "        self.uid = uid\n",
    "        self.status = 'unknown'\n",
    "        self._from_prev_q = from_prev_q\n",
    "        self._from_next_q = from_next_q\n",
    "        self._to_prev_q = to_prev_q\n",
    "        self._to_next_q = to_next_q\n",
    "\n",
    "    def send_prev(self, data):\n",
    "        self._to_prev_q.put(data)\n",
    "\n",
    "    def send_next(self, data):\n",
    "        self._to_next_q.put(data)\n",
    "\n",
    "    def accept_prev(self):\n",
    "        data = self._from_prev_q.get()\n",
    "        self._from_prev_q.task_done()\n",
    "        return data\n",
    "\n",
    "    def accept_next(self):\n",
    "        data = self._from_next_q.get()\n",
    "        self._from_next_q.task_done()\n",
    "        return data"
   ],
   "id": "5944da8db6790d15",
   "outputs": [],
   "execution_count": 3
  },
  {
   "metadata": {},
   "cell_type": "markdown",
   "source": "#### LCR algorithm",
   "id": "f8a704c5776c2d7a"
  },
  {
   "metadata": {
    "ExecuteTime": {
     "end_time": "2025-02-04T21:53:31.519345Z",
     "start_time": "2025-02-04T21:53:31.504339Z"
    }
   },
   "cell_type": "code",
   "source": [
    "def lcr_node_worker(node):\n",
    "    u = node.uid\n",
    "    send = node.uid\n",
    "\n",
    "    while True:\n",
    "        node.send_next(send)\n",
    "\n",
    "        v = node.accept_prev()\n",
    "        if v == \"TERM\":\n",
    "            break\n",
    "\n",
    "        if v is None:\n",
    "            send = v\n",
    "            continue\n",
    "        if v > u:\n",
    "            send = v\n",
    "            node.status = 'non-leader'\n",
    "        elif v < u:\n",
    "            send = None\n",
    "        else:\n",
    "            node.status = 'leader'\n",
    "            return"
   ],
   "id": "3881df357d056d4",
   "outputs": [],
   "execution_count": 4
  },
  {
   "metadata": {
    "ExecuteTime": {
     "end_time": "2025-02-04T21:53:31.550513Z",
     "start_time": "2025-02-04T21:53:31.535980Z"
    }
   },
   "cell_type": "code",
   "source": [
    "def lcr_run(total_nodes):\n",
    "    qs = [queue.Queue() for _ in range(total_nodes)]\n",
    "    nodes = [Node(i, qs[i], None, None, qs[i - 1]) for i in range(total_nodes)]\n",
    "\n",
    "    threads = []\n",
    "    for node in nodes:\n",
    "        t = threading.Thread(target=lcr_node_worker, args=(node,))\n",
    "        t.start()\n",
    "        threads.append(t)\n",
    "\n",
    "    time.sleep(3)\n",
    "    for q in qs:\n",
    "        q.put(\"TERM\")\n",
    "\n",
    "    for t in threads:\n",
    "        t.join()\n",
    "\n",
    "    for node in nodes:\n",
    "        print(f\"{node.uid}: {node.status}\")\n",
    "    print(\"\\nLCR algorithm complete.\")"
   ],
   "id": "b209c1ee050f59a3",
   "outputs": [],
   "execution_count": 5
  },
  {
   "metadata": {
    "ExecuteTime": {
     "end_time": "2025-02-04T21:53:34.591278Z",
     "start_time": "2025-02-04T21:53:31.565974Z"
    }
   },
   "cell_type": "code",
   "source": "lcr_run(n)",
   "id": "ca80dfc97b06fa6e",
   "outputs": [
    {
     "name": "stdout",
     "output_type": "stream",
     "text": [
      "0: non-leader\n",
      "1: non-leader\n",
      "2: non-leader\n",
      "3: non-leader\n",
      "4: non-leader\n",
      "5: non-leader\n",
      "6: non-leader\n",
      "7: non-leader\n",
      "8: non-leader\n",
      "9: non-leader\n",
      "10: non-leader\n",
      "11: leader\n",
      "\n",
      "LCR algorithm complete.\n"
     ]
    }
   ],
   "execution_count": 6
  },
  {
   "metadata": {},
   "cell_type": "markdown",
   "source": "#### HS algorithm",
   "id": "fcc3a3bfd84e7a96"
  },
  {
   "metadata": {
    "ExecuteTime": {
     "end_time": "2025-02-04T21:53:34.669400Z",
     "start_time": "2025-02-04T21:53:34.652434Z"
    }
   },
   "cell_type": "code",
   "source": [
    "def hs_node_worker(node):\n",
    "    u = node.uid\n",
    "    send_plus = (u, 'out', 1)\n",
    "    send_minus = (u, 'out', 1)\n",
    "    phase = 0\n",
    "\n",
    "    while True:\n",
    "        node.send_next(send_plus)\n",
    "        node.send_prev(send_minus)\n",
    "        send_plus, send_minus = None, None\n",
    "\n",
    "        v_prev = node.accept_prev()\n",
    "        v_next = node.accept_next()\n",
    "        if v_prev == \"TERM\" or v_next == \"TERM\":\n",
    "            break\n",
    "\n",
    "        if (v_prev is not None) and v_prev[1] == 'out':\n",
    "            v, out, h = v_prev\n",
    "            if v > u and h > 1:\n",
    "                send_plus = (v, 'out', h - 1)\n",
    "            elif v > u and h == 1:\n",
    "                send_minus = (v, 'in', 1)\n",
    "            elif v == u:\n",
    "                node.status = 'leader'\n",
    "\n",
    "        if (v_next is not None) and v_next[1] == 'out':\n",
    "            v, out, h = v_next\n",
    "            if v > u and h > 1:\n",
    "                send_minus = (v, 'out', h - 1)\n",
    "            elif v > u and h == 1:\n",
    "                send_plus = (v, 'in', 1)\n",
    "            elif v == u:\n",
    "                node.status = 'leader'\n",
    "\n",
    "        if (v_prev is not None) and v_prev[1] == 'in' and v_prev[2] == 1 and v_prev[0] != u:\n",
    "            v, in_, h = v_prev\n",
    "            send_plus = (v, 'in', 1)\n",
    "        if (v_next is not None) and v_next[1] == 'in' and v_next[2] == 1 and v_next[0] != u:\n",
    "            v, in_, h = v_next\n",
    "            send_minus = (v, 'in', 1)\n",
    "        if v_prev == (u, 'in', 1) and v_next == (u, 'in', 1):\n",
    "            phase += 1\n",
    "            send_plus = (u, 'out', 2 ** phase)\n",
    "            send_minus = (u, 'out', 2 ** phase)"
   ],
   "id": "558fd9cef4d71259",
   "outputs": [],
   "execution_count": 7
  },
  {
   "metadata": {
    "ExecuteTime": {
     "end_time": "2025-02-04T21:53:34.700457Z",
     "start_time": "2025-02-04T21:53:34.695224Z"
    }
   },
   "cell_type": "code",
   "source": [
    "def hs_run(total_nodes):\n",
    "    qs1 = [queue.Queue() for _ in range(total_nodes)]\n",
    "    qs2 = [queue.Queue() for _ in range(total_nodes)]\n",
    "    nodes = [Node(i, qs1[i], qs2[i - 1], qs2[i], qs1[i - 1]) for i in range(total_nodes)]\n",
    "\n",
    "    threads = []\n",
    "    for node in nodes:\n",
    "        t = threading.Thread(target=hs_node_worker, args=(node,))\n",
    "        t.start()\n",
    "        threads.append(t)\n",
    "\n",
    "    time.sleep(3)\n",
    "    for i in range(total_nodes):\n",
    "        qs1[i].put(\"TERM\")\n",
    "        qs2[i].put(\"TERM\")\n",
    "\n",
    "    for t in threads:\n",
    "        t.join()\n",
    "\n",
    "    for node in nodes:\n",
    "        print(f\"{node.uid}: {node.status}\")\n",
    "    print(\"\\nHS algorithm complete.\")"
   ],
   "id": "f49f4e620398cc1f",
   "outputs": [],
   "execution_count": 8
  },
  {
   "metadata": {
    "ExecuteTime": {
     "end_time": "2025-02-04T21:53:37.736562Z",
     "start_time": "2025-02-04T21:53:34.717284Z"
    }
   },
   "cell_type": "code",
   "source": "hs_run(n)",
   "id": "7d7338a805d84cf5",
   "outputs": [
    {
     "name": "stdout",
     "output_type": "stream",
     "text": [
      "0: unknown\n",
      "1: unknown\n",
      "2: unknown\n",
      "3: unknown\n",
      "4: unknown\n",
      "5: unknown\n",
      "6: unknown\n",
      "7: unknown\n",
      "8: unknown\n",
      "9: unknown\n",
      "10: unknown\n",
      "11: leader\n",
      "\n",
      "HS algorithm complete.\n"
     ]
    }
   ],
   "execution_count": 9
  }
 ],
 "metadata": {
  "kernelspec": {
   "display_name": "Python 3 (ipykernel)",
   "language": "python",
   "name": "python3"
  },
  "language_info": {
   "codemirror_mode": {
    "name": "ipython",
    "version": 3
   },
   "file_extension": ".py",
   "mimetype": "text/x-python",
   "name": "python",
   "nbconvert_exporter": "python",
   "pygments_lexer": "ipython3",
   "version": "3.9.13"
  }
 },
 "nbformat": 4,
 "nbformat_minor": 5
}
