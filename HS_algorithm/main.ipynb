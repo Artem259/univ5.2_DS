{
 "cells": [
  {
   "cell_type": "code",
   "id": "cd4e4260741a1d6b",
   "metadata": {
    "ExecuteTime": {
     "end_time": "2025-02-03T17:40:25.663659Z",
     "start_time": "2025-02-03T17:40:25.581260Z"
    }
   },
   "source": [
    "import ipyparallel as ipp"
   ],
   "outputs": [],
   "execution_count": 1
  },
  {
   "cell_type": "code",
   "id": "4212183e79a5c9d4",
   "metadata": {
    "ExecuteTime": {
     "end_time": "2025-02-03T17:40:25.679033Z",
     "start_time": "2025-02-03T17:40:25.666607Z"
    }
   },
   "source": "n = 6",
   "outputs": [],
   "execution_count": 2
  },
  {
   "cell_type": "code",
   "id": "f5f3017b18e966fa",
   "metadata": {
    "ExecuteTime": {
     "end_time": "2025-02-03T17:40:25.927862Z",
     "start_time": "2025-02-03T17:40:25.774768Z"
    }
   },
   "source": [
    "cluster = ipp.Cluster.from_file()\n",
    "rc = cluster.connect_client_sync()\n",
    "rc.wait_for_engines(n)\n",
    "\n",
    "print(f\"Number of available engines: {len(rc.ids)}\")"
   ],
   "outputs": [
    {
     "name": "stdout",
     "output_type": "stream",
     "text": [
      "Number of available engines: 6\n"
     ]
    }
   ],
   "execution_count": 3
  },
  {
   "cell_type": "code",
   "id": "3d1581d022dfc4ae",
   "metadata": {
    "ExecuteTime": {
     "end_time": "2025-02-03T17:40:25.958816Z",
     "start_time": "2025-02-03T17:40:25.944969Z"
    }
   },
   "source": [
    "def hello_world(params):\n",
    "    uid = params[0]\n",
    "    n = params[1]\n",
    "    return f\"Hello World from {uid}/{n}\""
   ],
   "outputs": [],
   "execution_count": 4
  },
  {
   "cell_type": "code",
   "id": "567048f9125d5ca8",
   "metadata": {
    "ExecuteTime": {
     "end_time": "2025-02-03T17:40:26.005230Z",
     "start_time": "2025-02-03T17:40:25.975283Z"
    }
   },
   "source": [
    "uids = [uid for uid in range(1, n + 1)]\n",
    "params = zip(uids, [n] * n)\n",
    "\n",
    "results = rc[:].map_sync(hello_world, params)\n",
    "print(\"\\n\".join(results))"
   ],
   "outputs": [
    {
     "name": "stdout",
     "output_type": "stream",
     "text": [
      "Hello World from 1/6\n",
      "Hello World from 2/6\n",
      "Hello World from 3/6\n",
      "Hello World from 4/6\n",
      "Hello World from 5/6\n",
      "Hello World from 6/6\n"
     ]
    }
   ],
   "execution_count": 5
  }
 ],
 "metadata": {
  "kernelspec": {
   "display_name": "Python 3 (ipykernel)",
   "language": "python",
   "name": "python3"
  },
  "language_info": {
   "codemirror_mode": {
    "name": "ipython",
    "version": 3
   },
   "file_extension": ".py",
   "mimetype": "text/x-python",
   "name": "python",
   "nbconvert_exporter": "python",
   "pygments_lexer": "ipython3",
   "version": "3.9.13"
  }
 },
 "nbformat": 4,
 "nbformat_minor": 5
}
