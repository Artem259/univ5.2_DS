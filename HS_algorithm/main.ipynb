{
 "cells": [
  {
   "cell_type": "code",
   "id": "cd4e4260741a1d6b",
   "metadata": {
    "ExecuteTime": {
     "end_time": "2025-02-03T22:38:37.885786Z",
     "start_time": "2025-02-03T22:38:37.809902Z"
    }
   },
   "source": [
    "import random\n",
    "import ipyparallel as ipp"
   ],
   "outputs": [],
   "execution_count": 1
  },
  {
   "cell_type": "markdown",
   "id": "b4eceed360fad237",
   "metadata": {},
   "source": [
    "##### Declaring the number of nodes"
   ]
  },
  {
   "cell_type": "code",
   "id": "4212183e79a5c9d4",
   "metadata": {
    "ExecuteTime": {
     "end_time": "2025-02-03T22:38:37.901406Z",
     "start_time": "2025-02-03T22:38:37.888786Z"
    }
   },
   "source": [
    "n = 6"
   ],
   "outputs": [],
   "execution_count": 2
  },
  {
   "cell_type": "markdown",
   "id": "177831fd-0742-46c0-a355-bc5afa574188",
   "metadata": {},
   "source": [
    "##### Generating node UIDs"
   ]
  },
  {
   "cell_type": "code",
   "id": "7b8c71ae60feb9cd",
   "metadata": {
    "ExecuteTime": {
     "end_time": "2025-02-03T22:38:38.010349Z",
     "start_time": "2025-02-03T22:38:37.995864Z"
    }
   },
   "source": [
    "uids = random.sample(range(1, (n * 10) + 1), n)\n",
    "\n",
    "print(f\"Generated {n} UIDs from the range [1, {n * 10}]\")\n",
    "print(\"Min UID:\", min(uids))\n",
    "print(\"Max UID:\", max(uids))"
   ],
   "outputs": [
    {
     "name": "stdout",
     "output_type": "stream",
     "text": [
      "Generated 6 UIDs from the range [1, 60]\n",
      "Min UID: 17\n",
      "Max UID: 60\n"
     ]
    }
   ],
   "execution_count": 3
  },
  {
   "cell_type": "markdown",
   "id": "9fe8f6c6ffb4a455",
   "metadata": {},
   "source": [
    "##### Connecting to the engines"
   ]
  },
  {
   "cell_type": "code",
   "id": "f5f3017b18e966fa",
   "metadata": {
    "ExecuteTime": {
     "end_time": "2025-02-03T22:38:41.283359Z",
     "start_time": "2025-02-03T22:38:38.027460Z"
    }
   },
   "source": [
    "cluster = ipp.Cluster.from_file()\n",
    "rc = cluster.connect_client_sync()\n",
    "rc.wait_for_engines(n)\n",
    "\n",
    "print(f\"Number of available engines: {len(rc.ids)}\")"
   ],
   "outputs": [
    {
     "name": "stdout",
     "output_type": "stream",
     "text": [
      "100%|██████████| 6/6 [00:03<00:00,  1.93engine/s]\n",
      "Number of available engines: 6\n"
     ]
    }
   ],
   "execution_count": 4
  },
  {
   "cell_type": "markdown",
   "id": "9d3790a7c1ba774d",
   "metadata": {},
   "source": "#### 'Hello, World!' message from nodes"
  },
  {
   "cell_type": "code",
   "id": "3d1581d022dfc4ae",
   "metadata": {
    "ExecuteTime": {
     "end_time": "2025-02-03T22:38:41.314571Z",
     "start_time": "2025-02-03T22:38:41.299577Z"
    }
   },
   "source": [
    "def hello_world(params):\n",
    "    uid = params[0]\n",
    "    n = params[1]\n",
    "    return f\"Hello, World! UID: {uid}, Total Nodes: {n}\""
   ],
   "outputs": [],
   "execution_count": 5
  },
  {
   "cell_type": "code",
   "id": "567048f9125d5ca8",
   "metadata": {
    "ExecuteTime": {
     "end_time": "2025-02-03T22:38:41.345566Z",
     "start_time": "2025-02-03T22:38:41.331026Z"
    }
   },
   "source": [
    "params = zip(uids, [n] * n)\n",
    "\n",
    "results = rc[:].map_sync(hello_world, params)\n",
    "print(\"\\n\".join(results))"
   ],
   "outputs": [
    {
     "name": "stdout",
     "output_type": "stream",
     "text": [
      "Hello, World! UID: 30, Total Nodes: 6\n",
      "Hello, World! UID: 60, Total Nodes: 6\n",
      "Hello, World! UID: 29, Total Nodes: 6\n",
      "Hello, World! UID: 17, Total Nodes: 6\n",
      "Hello, World! UID: 50, Total Nodes: 6\n",
      "Hello, World! UID: 33, Total Nodes: 6\n"
     ]
    }
   ],
   "execution_count": 6
  },
  {
   "metadata": {},
   "cell_type": "markdown",
   "source": "#### LCR algorithm",
   "id": "24b1ad0be29f1d80"
  },
  {
   "metadata": {
    "ExecuteTime": {
     "end_time": "2025-02-03T22:38:41.406780Z",
     "start_time": "2025-02-03T22:38:41.392907Z"
    }
   },
   "cell_type": "code",
   "source": [
    "def setup_communication(id, prev_id, next_id):\n",
    "    import time\n",
    "    from ipyparallel import Client\n",
    "\n",
    "    rc = Client()\n",
    "    dw = rc[:]\n",
    "\n",
    "    def send_prev(data):\n",
    "        dw.push({'incoming_data': data}, block=False, targets=[prev_id])\n",
    "\n",
    "    def send_next(data):\n",
    "        # rc[next_id].push({'incoming_data': data}, block=False, targets=[next_id])\n",
    "        dw.push({'incoming_data': data}, block=False, targets=[next_id])\n",
    "\n",
    "    def wait_for_data():\n",
    "        return dw.pull('incoming_data', block=True, targets=[id])\n",
    "\n",
    "    return send_prev, send_next, wait_for_data"
   ],
   "id": "d37bd134cd9c2a3d",
   "outputs": [],
   "execution_count": 8
  },
  {
   "metadata": {
    "ExecuteTime": {
     "end_time": "2025-02-03T22:38:41.437700Z",
     "start_time": "2025-02-03T22:38:41.422539Z"
    }
   },
   "cell_type": "code",
   "source": [
    "@ipp.require(setup_communication)\n",
    "def ring_communication(params):\n",
    "    uid, id, prev_id, next_id = params\n",
    "    send_prev, send_next, wait_for_data = setup_communication(id, prev_id, next_id)\n",
    "    send_next(f\"Message from f{uid}\")\n",
    "    a = wait_for_data()\n",
    "    return a"
   ],
   "id": "88c0bf82974686b4",
   "outputs": [],
   "execution_count": 9
  },
  {
   "metadata": {
    "ExecuteTime": {
     "start_time": "2025-02-03T22:38:41.453914Z"
    }
   },
   "cell_type": "code",
   "source": [
    "ids = rc.ids\n",
    "prev_ids = [(id - 1) % n for id in ids]\n",
    "next_ids = [(id + 1) % n for id in ids]\n",
    "params = zip(uids, ids, prev_ids, next_ids)\n",
    "\n",
    "results = rc[:].map_sync(ring_communication, params)\n",
    "print(\"\\n\".join(results))"
   ],
   "id": "6a604aadc3f3a060",
   "outputs": [],
   "execution_count": null
  },
  {
   "metadata": {},
   "cell_type": "code",
   "source": [
    "# def lcr(uid):\n",
    "#     u = uid\n",
    "#     send = uid\n",
    "#     status = 'unknown'\n",
    "#\n",
    "#     while status == 'unknown':\n",
    "#         ..."
   ],
   "id": "9c9a1e94fa44a4c7",
   "outputs": [],
   "execution_count": null
  },
  {
   "metadata": {},
   "cell_type": "code",
   "source": [
    "# results = rc[:].map_sync(lcr, uids)\n",
    "# print(\"\\n\".join(results))"
   ],
   "id": "5b06ba5cdced679c",
   "outputs": [],
   "execution_count": null
  },
  {
   "metadata": {},
   "cell_type": "markdown",
   "source": "#### HS algorithm",
   "id": "fcc3a3bfd84e7a96"
  },
  {
   "metadata": {},
   "cell_type": "code",
   "source": "# TODO",
   "id": "174c23c835bbfbdc",
   "outputs": [],
   "execution_count": null
  }
 ],
 "metadata": {
  "kernelspec": {
   "display_name": "Python 3 (ipykernel)",
   "language": "python",
   "name": "python3"
  },
  "language_info": {
   "codemirror_mode": {
    "name": "ipython",
    "version": 3
   },
   "file_extension": ".py",
   "mimetype": "text/x-python",
   "name": "python",
   "nbconvert_exporter": "python",
   "pygments_lexer": "ipython3",
   "version": "3.9.13"
  }
 },
 "nbformat": 4,
 "nbformat_minor": 5
}
