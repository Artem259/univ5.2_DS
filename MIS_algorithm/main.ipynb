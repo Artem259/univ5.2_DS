{
 "cells": [
  {
   "metadata": {
    "ExecuteTime": {
     "end_time": "2025-02-08T16:29:32.521365Z",
     "start_time": "2025-02-08T16:29:32.516897Z"
    }
   },
   "cell_type": "code",
   "source": "from itertools import chain",
   "id": "3d7418e5448ab6e5",
   "outputs": [],
   "execution_count": 1
  },
  {
   "metadata": {},
   "cell_type": "markdown",
   "source": "##### Declare the TreeNode class",
   "id": "46f292a1de36299b"
  },
  {
   "cell_type": "code",
   "id": "initial_id",
   "metadata": {
    "collapsed": true,
    "ExecuteTime": {
     "end_time": "2025-02-08T16:29:32.537131Z",
     "start_time": "2025-02-08T16:29:32.524733Z"
    }
   },
   "source": [
    "class TreeNode:\n",
    "    def __init__(self, id):\n",
    "        self.id = id\n",
    "        self.children = []\n",
    "\n",
    "    def add_child(self, child_node):\n",
    "        \"\"\"\n",
    "        Adds a child TreeNode to the current node.\n",
    "        :param child_node: TreeNode instance to be added as a child.\n",
    "        \"\"\"\n",
    "        self.children.append(child_node)\n",
    "\n",
    "    @property\n",
    "    def grandchildren(self):\n",
    "        \"\"\"\n",
    "        Returns a list of all grandchildren of the current node.\n",
    "        :return: List of TreeNode instances that are grandchildren of this node.\n",
    "        \"\"\"\n",
    "        grandchildren = []\n",
    "        for child in self.children:\n",
    "            grandchildren.extend(child.children)\n",
    "        return grandchildren\n",
    "\n",
    "    def display(self):\n",
    "        \"\"\"\n",
    "        Recursively displays the tree structure starting from this node.\n",
    "        \"\"\"\n",
    "        self.__display(prefix=\"\", is_last=True, is_root=True)\n",
    "\n",
    "    def __display(self, prefix=\"\", is_last=True, is_root=False):\n",
    "        connector = \"\"\n",
    "        new_prefix = \"\"\n",
    "        if not is_root:\n",
    "            connector = \"└── \" if is_last else \"├── \"\n",
    "            new_prefix = prefix + (\"    \" if is_last else \"│   \")\n",
    "        print(prefix + connector + f\"{self.id}\")\n",
    "\n",
    "        for i, child in enumerate(self.children):\n",
    "            is_last_child = (i == len(self.children) - 1)\n",
    "            child.__display(prefix=new_prefix, is_last=is_last_child)"
   ],
   "outputs": [],
   "execution_count": 2
  },
  {
   "metadata": {},
   "cell_type": "markdown",
   "source": "#### Finding Maximum Independent Set in a tree",
   "id": "856e4afaabd975f8"
  },
  {
   "metadata": {
    "ExecuteTime": {
     "end_time": "2025-02-08T16:29:32.661583Z",
     "start_time": "2025-02-08T16:29:32.647052Z"
    }
   },
   "cell_type": "code",
   "source": [
    "def mis_tree(node):\n",
    "    c_mis = [mis_tree(c) for c in node.children]  # MIS for each child node\n",
    "    c_mis = list(chain.from_iterable(c_mis))  # flatten list (2d -> 1d)\n",
    "\n",
    "    gc_mis = [mis_tree(gc) for gc in node.grandchildren]  # MIS for each grandchild node\n",
    "    gc_mis = list(chain.from_iterable(gc_mis))  # flatten list (2d -> 1d)\n",
    "    gc_mis.append(node)  # add current node to MIS\n",
    "\n",
    "    node_mis = max(c_mis, gc_mis, key=len)  # select the largest MIS\n",
    "    return node_mis"
   ],
   "id": "d49e63908e458ecd",
   "outputs": [],
   "execution_count": 3
  },
  {
   "metadata": {},
   "cell_type": "markdown",
   "source": "##### First example",
   "id": "e1b586dc5f0584d9"
  },
  {
   "metadata": {
    "ExecuteTime": {
     "end_time": "2025-02-08T16:29:32.693724Z",
     "start_time": "2025-02-08T16:29:32.679039Z"
    }
   },
   "cell_type": "code",
   "source": [
    "root = TreeNode(1)\n",
    "\n",
    "node_2 = TreeNode(2)\n",
    "node_3 = TreeNode(3)\n",
    "node_4 = TreeNode(4)\n",
    "node_5 = TreeNode(5)\n",
    "node_6 = TreeNode(6)\n",
    "node_7 = TreeNode(7)\n",
    "\n",
    "root.add_child(node_2)\n",
    "root.add_child(node_3)\n",
    "root.add_child(node_4)\n",
    "node_3.add_child(node_5)\n",
    "node_4.add_child(node_6)\n",
    "node_4.add_child(node_7)\n",
    "\n",
    "root.display()"
   ],
   "id": "c047de003893827f",
   "outputs": [
    {
     "name": "stdout",
     "output_type": "stream",
     "text": [
      "1\n",
      "├── 2\n",
      "├── 3\n",
      "│   └── 5\n",
      "└── 4\n",
      "    ├── 6\n",
      "    └── 7\n"
     ]
    }
   ],
   "execution_count": 4
  },
  {
   "metadata": {
    "ExecuteTime": {
     "end_time": "2025-02-08T16:29:32.723429Z",
     "start_time": "2025-02-08T16:29:32.709628Z"
    }
   },
   "cell_type": "code",
   "source": [
    "mis = sorted(mis_tree(root), key=lambda n: n.id)\n",
    "\n",
    "print(f\"MIS size: {len(mis)}\")\n",
    "print(f\"MIS nodes: {[n.id for n in mis]}\")"
   ],
   "id": "c71b3dbac502c8af",
   "outputs": [
    {
     "name": "stdout",
     "output_type": "stream",
     "text": [
      "MIS size: 4\n",
      "MIS nodes: [2, 5, 6, 7]\n"
     ]
    }
   ],
   "execution_count": 5
  },
  {
   "metadata": {},
   "cell_type": "markdown",
   "source": "##### Second example",
   "id": "fb44677a56cabc74"
  },
  {
   "metadata": {
    "ExecuteTime": {
     "end_time": "2025-02-08T16:29:32.754631Z",
     "start_time": "2025-02-08T16:29:32.738996Z"
    }
   },
   "cell_type": "code",
   "source": [
    "root = TreeNode(1)\n",
    "\n",
    "node_2 = TreeNode(2)\n",
    "node_3 = TreeNode(3)\n",
    "node_4 = TreeNode(4)\n",
    "node_5 = TreeNode(5)\n",
    "node_6 = TreeNode(6)\n",
    "node_7 = TreeNode(7)\n",
    "node_8 = TreeNode(8)\n",
    "\n",
    "root.add_child(node_2)\n",
    "root.add_child(node_3)\n",
    "node_2.add_child(node_4)\n",
    "node_2.add_child(node_5)\n",
    "node_3.add_child(node_6)\n",
    "node_3.add_child(node_7)\n",
    "node_6.add_child(node_8)\n",
    "\n",
    "root.display()"
   ],
   "id": "440e110fec1a8e2c",
   "outputs": [
    {
     "name": "stdout",
     "output_type": "stream",
     "text": [
      "1\n",
      "├── 2\n",
      "│   ├── 4\n",
      "│   └── 5\n",
      "└── 3\n",
      "    ├── 6\n",
      "    │   └── 8\n",
      "    └── 7\n"
     ]
    }
   ],
   "execution_count": 6
  },
  {
   "metadata": {
    "ExecuteTime": {
     "end_time": "2025-02-08T16:29:32.785403Z",
     "start_time": "2025-02-08T16:29:32.770864Z"
    }
   },
   "cell_type": "code",
   "source": [
    "mis = sorted(mis_tree(root), key=lambda n: n.id)\n",
    "\n",
    "print(f\"MIS size: {len(mis)}\")\n",
    "print(f\"MIS nodes: {[n.id for n in mis]}\")"
   ],
   "id": "ecc0080f1310a4c8",
   "outputs": [
    {
     "name": "stdout",
     "output_type": "stream",
     "text": [
      "MIS size: 5\n",
      "MIS nodes: [1, 4, 5, 7, 8]\n"
     ]
    }
   ],
   "execution_count": 7
  }
 ],
 "metadata": {
  "kernelspec": {
   "display_name": "Python 3",
   "language": "python",
   "name": "python3"
  },
  "language_info": {
   "codemirror_mode": {
    "name": "ipython",
    "version": 2
   },
   "file_extension": ".py",
   "mimetype": "text/x-python",
   "name": "python",
   "nbconvert_exporter": "python",
   "pygments_lexer": "ipython2",
   "version": "2.7.6"
  }
 },
 "nbformat": 4,
 "nbformat_minor": 5
}
