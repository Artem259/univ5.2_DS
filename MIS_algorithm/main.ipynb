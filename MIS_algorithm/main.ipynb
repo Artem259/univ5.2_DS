{
 "cells": [
  {
   "metadata": {
    "ExecuteTime": {
     "end_time": "2025-02-08T14:36:59.032303Z",
     "start_time": "2025-02-08T14:36:59.020775Z"
    }
   },
   "cell_type": "code",
   "source": "from itertools import chain",
   "id": "3d7418e5448ab6e5",
   "outputs": [],
   "execution_count": 1
  },
  {
   "cell_type": "code",
   "id": "initial_id",
   "metadata": {
    "collapsed": true,
    "ExecuteTime": {
     "end_time": "2025-02-08T14:36:59.155916Z",
     "start_time": "2025-02-08T14:36:59.141199Z"
    }
   },
   "source": [
    "class TreeNode:\n",
    "    def __init__(self, id):\n",
    "        self.id = id\n",
    "        self.children = []\n",
    "\n",
    "    def add_child(self, child_node):\n",
    "        \"\"\"\n",
    "        Adds a child TreeNode to the current node.\n",
    "        :param child_node: TreeNode instance to be added as a child.\n",
    "        \"\"\"\n",
    "        self.children.append(child_node)\n",
    "\n",
    "    @property\n",
    "    def grandchildren(self):\n",
    "        \"\"\"\n",
    "        Returns a list of all grandchildren of the current node.\n",
    "        :return: List of TreeNode instances that are grandchildren of this node.\n",
    "        \"\"\"\n",
    "        grandchildren = []\n",
    "        for child in self.children:\n",
    "            grandchildren.extend(child.children)\n",
    "        return grandchildren\n",
    "\n",
    "    def display(self):\n",
    "        \"\"\"\n",
    "        Recursively displays the tree structure starting from this node.\n",
    "        \"\"\"\n",
    "        self.__display(prefix=\"\", is_last=True, is_root=True)\n",
    "\n",
    "    def __display(self, prefix=\"\", is_last=True, is_root=False):\n",
    "        connector = \"\"\n",
    "        new_prefix = \"\"\n",
    "        if not is_root:\n",
    "            connector = \"└── \" if is_last else \"├── \"\n",
    "            new_prefix = prefix + (\"    \" if is_last else \"│   \")\n",
    "\n",
    "        print(prefix + connector + f\"{self.id}\")\n",
    "\n",
    "        for i, child in enumerate(self.children):\n",
    "            is_last_child = (i == len(self.children) - 1)\n",
    "            child.__display(prefix=new_prefix, is_last=is_last_child)"
   ],
   "outputs": [],
   "execution_count": 2
  },
  {
   "metadata": {
    "ExecuteTime": {
     "end_time": "2025-02-08T14:36:59.172155Z",
     "start_time": "2025-02-08T14:36:59.159589Z"
    }
   },
   "cell_type": "code",
   "source": [
    "def create_sample_tree():\n",
    "    \"\"\"\n",
    "    Creates a sample tree for demonstration purposes.\n",
    "\n",
    "    Tree Structure:\n",
    "         1\n",
    "       / | \\\n",
    "      2  3  4\n",
    "         | | \\\n",
    "         5 6  7\n",
    "\n",
    "    :return: Root TreeNode of the sample tree.\n",
    "    \"\"\"\n",
    "    root = TreeNode(1)\n",
    "    child_2 = TreeNode(2)\n",
    "    child_3 = TreeNode(3)\n",
    "    child_4 = TreeNode(4)\n",
    "\n",
    "    child_5 = TreeNode(5)\n",
    "    child_6 = TreeNode(6)\n",
    "    child_7 = TreeNode(7)\n",
    "\n",
    "    root.add_child(child_2)\n",
    "    root.add_child(child_3)\n",
    "    root.add_child(child_4)\n",
    "\n",
    "    child_3.add_child(child_5)\n",
    "    child_4.add_child(child_6)\n",
    "    child_4.add_child(child_7)\n",
    "\n",
    "    return root"
   ],
   "id": "c047de003893827f",
   "outputs": [],
   "execution_count": 3
  },
  {
   "metadata": {
    "ExecuteTime": {
     "end_time": "2025-02-08T14:36:59.203099Z",
     "start_time": "2025-02-08T14:36:59.188284Z"
    }
   },
   "cell_type": "code",
   "source": [
    "root = create_sample_tree()\n",
    "root.display()"
   ],
   "id": "53bd87f108015b02",
   "outputs": [
    {
     "name": "stdout",
     "output_type": "stream",
     "text": [
      "1\n",
      "├── 2\n",
      "├── 3\n",
      "│   └── 5\n",
      "└── 4\n",
      "    ├── 6\n",
      "    └── 7\n"
     ]
    }
   ],
   "execution_count": 4
  },
  {
   "metadata": {
    "ExecuteTime": {
     "end_time": "2025-02-08T14:36:59.234230Z",
     "start_time": "2025-02-08T14:36:59.219460Z"
    }
   },
   "cell_type": "code",
   "source": [
    "def mis_tree(node):\n",
    "    c_mis = [mis_tree(c) for c in node.children]  # MIS for each child node\n",
    "    c_mis = list(chain.from_iterable(c_mis))  # flatten list (2d -> 1d)\n",
    "\n",
    "    gc_mis = [mis_tree(gc) for gc in node.grandchildren]  # MIS for each grandchild node\n",
    "    gc_mis = list(chain.from_iterable(gc_mis))  # flatten list (2d -> 1d)\n",
    "    gc_mis.append(node)  # add current node to MIS\n",
    "\n",
    "    node_mis = max(c_mis, gc_mis, key=len)  # select the largest MIS\n",
    "    return node_mis"
   ],
   "id": "60e97b642ad80528",
   "outputs": [],
   "execution_count": 5
  },
  {
   "metadata": {
    "ExecuteTime": {
     "end_time": "2025-02-08T14:36:59.280006Z",
     "start_time": "2025-02-08T14:36:59.264882Z"
    }
   },
   "cell_type": "code",
   "source": [
    "mis = mis_tree(root)\n",
    "print([n.id for n in mis])"
   ],
   "id": "c71b3dbac502c8af",
   "outputs": [
    {
     "name": "stdout",
     "output_type": "stream",
     "text": [
      "[2, 5, 6, 7]\n"
     ]
    }
   ],
   "execution_count": 6
  }
 ],
 "metadata": {
  "kernelspec": {
   "display_name": "Python 3",
   "language": "python",
   "name": "python3"
  },
  "language_info": {
   "codemirror_mode": {
    "name": "ipython",
    "version": 2
   },
   "file_extension": ".py",
   "mimetype": "text/x-python",
   "name": "python",
   "nbconvert_exporter": "python",
   "pygments_lexer": "ipython2",
   "version": "2.7.6"
  }
 },
 "nbformat": 4,
 "nbformat_minor": 5
}
