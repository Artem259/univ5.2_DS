{
 "cells": [
  {
   "cell_type": "code",
   "id": "initial_id",
   "metadata": {
    "collapsed": true,
    "ExecuteTime": {
     "end_time": "2025-04-27T23:28:00.850274Z",
     "start_time": "2025-04-27T23:28:00.798979Z"
    }
   },
   "source": [
    "import threading\n",
    "import numpy as np"
   ],
   "outputs": [],
   "execution_count": 1
  },
  {
   "metadata": {
    "ExecuteTime": {
     "end_time": "2025-04-27T23:28:00.865880Z",
     "start_time": "2025-04-27T23:28:00.853045Z"
    }
   },
   "cell_type": "code",
   "source": [
    "class TreeNode:\n",
    "    def __init__(self, size, base_case=False, padded=False):\n",
    "        self.size = size\n",
    "        self.padded = padded\n",
    "        self.base_case = base_case\n",
    "        self.children = []\n",
    "\n",
    "    def add_child(self, child_node):\n",
    "        self.children.append(child_node)\n",
    "\n",
    "    def display(self, prefix=\"\", is_last=True, is_root=True):\n",
    "        connector = \"\"\n",
    "        new_prefix = \"\"\n",
    "        if not is_root:\n",
    "            connector = \"└── \" if is_last else \"├── \"\n",
    "            new_prefix = prefix + (\"    \" if is_last else \"│   \")\n",
    "        size_str = f\"({str(self.size)}+1)\" if self.padded else str(self.size)\n",
    "        print(prefix + connector + f\"{size_str}x{size_str}{' (base case)' if self.base_case else ''}\")\n",
    "\n",
    "        for i, child in enumerate(self.children):\n",
    "            is_last_child = (i == len(self.children) - 1)\n",
    "            child.display(prefix=new_prefix, is_last=is_last_child, is_root=False)"
   ],
   "id": "761a5caeab695f85",
   "outputs": [],
   "execution_count": 2
  },
  {
   "metadata": {
    "ExecuteTime": {
     "end_time": "2025-04-27T23:28:00.988481Z",
     "start_time": "2025-04-27T23:28:00.974465Z"
    }
   },
   "cell_type": "code",
   "source": [
    "def multiply_naive(A, B):\n",
    "    return A @ B\n",
    "\n",
    "def pad_matrix(matrix):\n",
    "    n = matrix.shape[0]\n",
    "    padded = np.zeros((n+1, n+1), dtype=matrix.dtype)\n",
    "    padded[:n, :n] = matrix\n",
    "    return padded\n",
    "\n",
    "def split_matrix(matrix):\n",
    "    n = matrix.shape[0]\n",
    "    mid = n // 2\n",
    "    return matrix[:mid, :mid], matrix[:mid, mid:], matrix[mid:, :mid], matrix[mid:, mid:]\n",
    "\n",
    "def combine_matrices(C11, C12, C21, C22):\n",
    "    top = np.hstack((C11, C12))\n",
    "    bottom = np.hstack((C21, C22))\n",
    "    return np.vstack((top, bottom))"
   ],
   "id": "d73a7b1cb34a99b4",
   "outputs": [],
   "execution_count": 3
  },
  {
   "metadata": {
    "ExecuteTime": {
     "end_time": "2025-04-27T23:28:01.020586Z",
     "start_time": "2025-04-27T23:28:01.005487Z"
    }
   },
   "cell_type": "code",
   "source": [
    "def multiply_recursive(A, B, max_block_size):\n",
    "    n = A.shape[0]\n",
    "    current_node = TreeNode(size=n, base_case=False, padded=False)\n",
    "\n",
    "    if n <= max_block_size:\n",
    "        current_node.base_case = True\n",
    "        result = multiply_naive(A, B)\n",
    "        return result, current_node\n",
    "\n",
    "    if n % 2 != 0:\n",
    "        current_node.padded = True\n",
    "        A = pad_matrix(A)\n",
    "        B = pad_matrix(B)\n",
    "\n",
    "    A11, A12, A21, A22 = split_matrix(A)\n",
    "    B11, B12, B21, B22 = split_matrix(B)\n",
    "\n",
    "    results = {}\n",
    "\n",
    "    def compute(block_name, blocks, node):\n",
    "        C1, res_node = multiply_recursive(blocks[0][0], blocks[0][1], max_block_size)\n",
    "        C2, _ = multiply_recursive(blocks[1][0], blocks[1][1], max_block_size)\n",
    "        if block_name == 'C11':\n",
    "            node.add_child(res_node)\n",
    "        results[block_name] = C1 + C2\n",
    "\n",
    "    thread_args = [\n",
    "        ('C11', [(A11, B11), (A12, B21)]),\n",
    "        ('C12', [(A11, B12), (A12, B22)]),\n",
    "        ('C21', [(A21, B11), (A22, B21)]),\n",
    "        ('C22', [(A21, B12), (A22, B22)]),\n",
    "    ]\n",
    "\n",
    "    threads = []\n",
    "    for block_name, blocks in thread_args:\n",
    "        t = threading.Thread(target=compute, args=(block_name, blocks, current_node), name=block_name)\n",
    "        threads.append(t)\n",
    "        t.start()\n",
    "\n",
    "    for t in threads:\n",
    "        t.join()\n",
    "\n",
    "    C = combine_matrices(results['C11'], results['C12'], results['C21'], results['C22'])\n",
    "\n",
    "    if current_node.padded:\n",
    "        return C[:n, :n], current_node\n",
    "\n",
    "    return C, current_node"
   ],
   "id": "13e138969e52aed1",
   "outputs": [],
   "execution_count": 4
  },
  {
   "metadata": {
    "ExecuteTime": {
     "end_time": "2025-04-27T23:28:01.050888Z",
     "start_time": "2025-04-27T23:28:01.036647Z"
    }
   },
   "cell_type": "code",
   "source": [
    "MATRIX_SIZE = 100\n",
    "MAX_BLOCK_SIZE = 4"
   ],
   "id": "cb3992470a444ee0",
   "outputs": [],
   "execution_count": 5
  },
  {
   "metadata": {
    "ExecuteTime": {
     "end_time": "2025-04-27T23:28:01.082943Z",
     "start_time": "2025-04-27T23:28:01.066975Z"
    }
   },
   "cell_type": "code",
   "source": [
    "A = np.random.randint(0, 10, size=(MATRIX_SIZE, MATRIX_SIZE))\n",
    "B = np.random.randint(0, 10, size=(MATRIX_SIZE, MATRIX_SIZE))"
   ],
   "id": "2926369bd6cd8e5",
   "outputs": [],
   "execution_count": 6
  },
  {
   "metadata": {
    "ExecuteTime": {
     "end_time": "2025-04-27T23:28:03.849827Z",
     "start_time": "2025-04-27T23:28:01.098628Z"
    }
   },
   "cell_type": "code",
   "source": [
    "C, root_node = multiply_recursive(A, B, MAX_BLOCK_SIZE)\n",
    "root_node.display()"
   ],
   "id": "6ea6ac332f44fc34",
   "outputs": [
    {
     "name": "stdout",
     "output_type": "stream",
     "text": [
      "100x100\n",
      "└── 50x50\n",
      "    └── (25+1)x(25+1)\n",
      "        └── (13+1)x(13+1)\n",
      "            └── (7+1)x(7+1)\n",
      "                └── 4x4 (base case)\n"
     ]
    }
   ],
   "execution_count": 7
  },
  {
   "metadata": {
    "ExecuteTime": {
     "end_time": "2025-04-27T23:28:03.880099Z",
     "start_time": "2025-04-27T23:28:03.866137Z"
    }
   },
   "cell_type": "code",
   "source": [
    "expected = A @ B\n",
    "is_equal = np.array_equal(C, expected)\n",
    "\n",
    "assert is_equal\n",
    "print(is_equal)"
   ],
   "id": "bda4c4e5a086ca4e",
   "outputs": [
    {
     "name": "stdout",
     "output_type": "stream",
     "text": [
      "True\n"
     ]
    }
   ],
   "execution_count": 8
  },
  {
   "metadata": {
    "ExecuteTime": {
     "end_time": "2025-04-27T23:28:18.690542Z",
     "start_time": "2025-04-27T23:28:03.896295Z"
    }
   },
   "cell_type": "code",
   "source": [
    "for matrix_size in range(1, 21):\n",
    "    A = np.random.randint(0, 10, size=(matrix_size, matrix_size))\n",
    "    B = np.random.randint(0, 10, size=(matrix_size, matrix_size))\n",
    "    max_block_sizes = range(1, 11)\n",
    "    for max_block_size in max_block_sizes:\n",
    "        C, _ = multiply_recursive(A, B, max_block_size)\n",
    "        expected = A @ B\n",
    "        assert np.array_equal(C, expected)\n",
    "    print(f\"Test (ms={matrix_size}, mbs={max_block_sizes[0]}..{max_block_sizes[-1]}): PASSED.\")"
   ],
   "id": "802670a5e81796a3",
   "outputs": [
    {
     "name": "stdout",
     "output_type": "stream",
     "text": [
      "Test (ms=1, mbs=1..10): PASSED.\n",
      "Test (ms=2, mbs=1..10): PASSED.\n",
      "Test (ms=3, mbs=1..10): PASSED.\n",
      "Test (ms=4, mbs=1..10): PASSED.\n",
      "Test (ms=5, mbs=1..10): PASSED.\n",
      "Test (ms=6, mbs=1..10): PASSED.\n",
      "Test (ms=7, mbs=1..10): PASSED.\n",
      "Test (ms=8, mbs=1..10): PASSED.\n",
      "Test (ms=9, mbs=1..10): PASSED.\n",
      "Test (ms=10, mbs=1..10): PASSED.\n",
      "Test (ms=11, mbs=1..10): PASSED.\n",
      "Test (ms=12, mbs=1..10): PASSED.\n",
      "Test (ms=13, mbs=1..10): PASSED.\n",
      "Test (ms=14, mbs=1..10): PASSED.\n",
      "Test (ms=15, mbs=1..10): PASSED.\n",
      "Test (ms=16, mbs=1..10): PASSED.\n",
      "Test (ms=17, mbs=1..10): PASSED.\n",
      "Test (ms=18, mbs=1..10): PASSED.\n",
      "Test (ms=19, mbs=1..10): PASSED.\n",
      "Test (ms=20, mbs=1..10): PASSED.\n"
     ]
    }
   ],
   "execution_count": 9
  }
 ],
 "metadata": {
  "kernelspec": {
   "display_name": "Python 3",
   "language": "python",
   "name": "python3"
  },
  "language_info": {
   "codemirror_mode": {
    "name": "ipython",
    "version": 2
   },
   "file_extension": ".py",
   "mimetype": "text/x-python",
   "name": "python",
   "nbconvert_exporter": "python",
   "pygments_lexer": "ipython2",
   "version": "2.7.6"
  }
 },
 "nbformat": 4,
 "nbformat_minor": 5
}
