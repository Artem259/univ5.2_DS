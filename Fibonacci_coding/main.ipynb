{
 "cells": [
  {
   "metadata": {},
   "cell_type": "markdown",
   "source": "##### Declare the Fibonacci numbers generator function",
   "id": "baa0a067c72e3376"
  },
  {
   "cell_type": "code",
   "id": "da0dc962d4a85433",
   "metadata": {
    "ExecuteTime": {
     "end_time": "2025-03-31T20:14:30.655471Z",
     "start_time": "2025-03-31T20:14:30.637201Z"
    }
   },
   "source": [
    "def fibonacci_generator():\n",
    "    \"\"\"\n",
    "    Generator function for Fibonacci numbers.\n",
    "    Yields Fibonacci numbers indefinitely.\n",
    "    \"\"\"\n",
    "    a, b = 1, 2\n",
    "    while True:\n",
    "        yield a\n",
    "        a, b = b, a + b"
   ],
   "outputs": [],
   "execution_count": 1
  },
  {
   "metadata": {},
   "cell_type": "markdown",
   "source": "#### Declare the Fibonacci encoding function",
   "id": "57612586960924d0"
  },
  {
   "metadata": {
    "ExecuteTime": {
     "end_time": "2025-03-31T20:14:30.670498Z",
     "start_time": "2025-03-31T20:14:30.658980Z"
    }
   },
   "cell_type": "code",
   "source": [
    "def fibonacci_encode(n: int) -> str:\n",
    "    \"\"\"\n",
    "    Encode an integer using Fibonacci coding.\n",
    "\n",
    "    :param n: The integer to encode. Must be a positive integer.\n",
    "    :return: The Fibonacci-encoded binary string.\n",
    "    \"\"\"\n",
    "    if n < 1:\n",
    "        raise ValueError(\"Only positive integers can be encoded.\")\n",
    "\n",
    "    fib_gen = fibonacci_generator()\n",
    "    fib = []\n",
    "    while True:\n",
    "        f = next(fib_gen)\n",
    "        if f > n:\n",
    "            break\n",
    "        fib.append(f)\n",
    "\n",
    "    result = []\n",
    "    used = False\n",
    "    for f in reversed(fib):\n",
    "        if f <= n:\n",
    "            result.append('1')\n",
    "            n -= f\n",
    "            used = True\n",
    "        elif used:\n",
    "            result.append('0')\n",
    "    result = list(reversed(result))\n",
    "\n",
    "    result.append('1')  # Append the termination bit\n",
    "    return ''.join(result)"
   ],
   "id": "3d1c801c5348dd81",
   "outputs": [],
   "execution_count": 2
  },
  {
   "metadata": {},
   "cell_type": "markdown",
   "source": "#### Declare the Fibonacci decoding function",
   "id": "9b6595eabc71800c"
  },
  {
   "metadata": {
    "ExecuteTime": {
     "end_time": "2025-03-31T20:14:30.778375Z",
     "start_time": "2025-03-31T20:14:30.764707Z"
    }
   },
   "cell_type": "code",
   "source": [
    "def fibonacci_decode(code: str) -> int:\n",
    "    \"\"\"\n",
    "    Decode a Fibonacci encoded binary string back to an integer.\n",
    "\n",
    "    :param code: The Fibonacci-encoded binary string.\n",
    "    :return: The decoded integer.\n",
    "    \"\"\"\n",
    "    fib_gen = fibonacci_generator()\n",
    "    fib = [next(fib_gen) for _ in range(len(code))]\n",
    "\n",
    "    n = 0\n",
    "    for i, bit in enumerate(code[:-1]):  # Ignore last '1' (termination)\n",
    "        if bit == '1':\n",
    "            n += fib[i]\n",
    "    return n"
   ],
   "id": "d8b3b7bbb140515",
   "outputs": [],
   "execution_count": 3
  },
  {
   "metadata": {},
   "cell_type": "markdown",
   "source": "#### Usage example",
   "id": "66b0a730f9d95a81"
  },
  {
   "metadata": {
    "ExecuteTime": {
     "end_time": "2025-03-31T20:14:30.825913Z",
     "start_time": "2025-03-31T20:14:30.810004Z"
    }
   },
   "cell_type": "code",
   "source": [
    "num = 42\n",
    "encoded = fibonacci_encode(num)\n",
    "decoded = fibonacci_decode(encoded)\n",
    "\n",
    "print(f\"Original: {num}\")\n",
    "print(f\"Encoded: {encoded}\")\n",
    "print(f\"Decoded: {decoded}\")"
   ],
   "id": "4d3a01ef255ca443",
   "outputs": [
    {
     "name": "stdout",
     "output_type": "stream",
     "text": [
      "Original: 42\n",
      "Encoded: 000010011\n",
      "Decoded: 42\n"
     ]
    }
   ],
   "execution_count": 4
  }
 ],
 "metadata": {
  "kernelspec": {
   "display_name": "Python 3",
   "language": "python",
   "name": "python3"
  },
  "language_info": {
   "codemirror_mode": {
    "name": "ipython",
    "version": 2
   },
   "file_extension": ".py",
   "mimetype": "text/x-python",
   "name": "python",
   "nbconvert_exporter": "python",
   "pygments_lexer": "ipython2",
   "version": "2.7.6"
  }
 },
 "nbformat": 4,
 "nbformat_minor": 5
}
